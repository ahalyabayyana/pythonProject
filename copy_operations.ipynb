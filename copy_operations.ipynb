{
 "cells": [
  {
   "cell_type": "code",
   "execution_count": 2,
   "metadata": {},
   "outputs": [
    {
     "name": "stdout",
     "output_type": "stream",
     "text": [
      "(1, 2, 3, 4)\n",
      "(1, 2, 3, 4)\n"
     ]
    }
   ],
   "source": [
    "tuple1=(1,2,3,4)\n",
    "tuple2=tuple1\n",
    "print(tuple1)\n",
    "print(tuple2)\n",
    "#shallow copying"
   ]
  },
  {
   "cell_type": "code",
   "execution_count": 25,
   "metadata": {},
   "outputs": [
    {
     "name": "stdout",
     "output_type": "stream",
     "text": [
      "1519196713424\n",
      "1519196713424\n"
     ]
    }
   ],
   "source": [
    "import copy\n",
    "tuple_fruits=(\"Apple\",\"banana\",\"mango\",\"pom\")\n",
    "tuple_new_fruits=copy.copy(tuple_fruits)\n",
    "print(id(tuple_fruits))\n",
    "print(id(tuple_new_fruits))"
   ]
  },
  {
   "cell_type": "code",
   "execution_count": 17,
   "metadata": {},
   "outputs": [
    {
     "name": "stdout",
     "output_type": "stream",
     "text": [
      "('apple', 'mango', ['pom', 'banana', 'orange'], 'kiwi')\n",
      "('apple', 'mango', ['pom', 'banana', 'orange'], 'kiwi')\n",
      "1519196714944\n",
      "1519196714944\n"
     ]
    }
   ],
   "source": [
    "tuple_nest_fruit=(\"apple\",\"mango\",[\"pom\",\"banana\",\"orange\"],\"kiwi\")\n",
    "tuple_deep_fruitscopy = tuple_nest_fruit[:]\n",
    "print(tuple_nest_fruit)\n",
    "print(tuple_deep_fruitscopy)\n",
    "print(id(tuple_nest_fruit))\n",
    "print(id(tuple_deep_fruitscopy))\n",
    "# when it is a simple tuple or nested tuple with tuple inside it using : or slicing [:] will only takes as a shallow copy"
   ]
  },
  {
   "cell_type": "code",
   "execution_count": 9,
   "metadata": {},
   "outputs": [
    {
     "name": "stdout",
     "output_type": "stream",
     "text": [
      "1519196565568\n",
      "1519196565568\n"
     ]
    }
   ],
   "source": [
    "tuple_deep_fruitscopy[2][1]=\"cuties\"\n",
    "print(id(tuple_nest_fruit))\n",
    "print(id(tuple_deep_fruitscopy))"
   ]
  },
  {
   "cell_type": "code",
   "execution_count": 21,
   "metadata": {},
   "outputs": [
    {
     "name": "stdout",
     "output_type": "stream",
     "text": [
      "1519196793920\n",
      "1519196793664\n",
      "[1, 2, [2, 'Three', 4, 5], 4, 5]\n",
      "[1, 2, [2, 'Three', 4, 5], 4, 5]\n"
     ]
    }
   ],
   "source": [
    "o = [1, 2,[2,3,4,5],4, 5]\n",
    "p = o[:]\n",
    "print(id(o))\n",
    "print(id(p))\n",
    "\n",
    "p[2][1]=\"Three\"\n",
    "print(p)\n",
    "print(o)\n",
    "\n",
    "#when it is a list or a nested list with list inside slicing considered as shallow copy for nested list but deep copy for outside of nested list.\n"
   ]
  },
  {
   "cell_type": "code",
   "execution_count": 22,
   "metadata": {},
   "outputs": [
    {
     "name": "stdout",
     "output_type": "stream",
     "text": [
      "1519196808384\n",
      "1519196793088\n",
      "[1, 2, 'Three', 4, 5]\n",
      "[1, 2, 3, 4, 5]\n"
     ]
    }
   ],
   "source": [
    "o = [1, 2,3,4, 5]\n",
    "p = o[:]\n",
    "print(id(o))\n",
    "print(id(p))\n",
    "\n",
    "p[2]=\"Three\"\n",
    "print(p)\n",
    "print(o)\n",
    "\n",
    "#with simple list slicing is doing deep copy"
   ]
  },
  {
   "cell_type": "code",
   "execution_count": 23,
   "metadata": {},
   "outputs": [
    {
     "name": "stdout",
     "output_type": "stream",
     "text": [
      "(1, 2, 2, 2)\n"
     ]
    }
   ],
   "source": [
    "tuple1=(1,2,2,2)\n",
    "print(tuple1)"
   ]
  },
  {
   "cell_type": "code",
   "execution_count": 24,
   "metadata": {},
   "outputs": [
    {
     "name": "stdout",
     "output_type": "stream",
     "text": [
      "{1, 2, 3, 4}\n"
     ]
    }
   ],
   "source": [
    "set1={1,2,2,3,4}\n",
    "print(set1)"
   ]
  },
  {
   "cell_type": "code",
   "execution_count": 28,
   "metadata": {},
   "outputs": [
    {
     "ename": "TypeError",
     "evalue": "unsupported operand type(s) for +=: 'int' and 'tuple'",
     "output_type": "error",
     "traceback": [
      "\u001b[1;31m---------------------------------------------------------------------------\u001b[0m",
      "\u001b[1;31mTypeError\u001b[0m                                 Traceback (most recent call last)",
      "\u001b[1;32m<ipython-input-28-ab0c49204280>\u001b[0m in \u001b[0;36m<module>\u001b[1;34m\u001b[0m\n\u001b[0;32m      1\u001b[0m \u001b[0mlist1\u001b[0m\u001b[1;33m=\u001b[0m\u001b[1;33m[\u001b[0m\u001b[1;36m1\u001b[0m\u001b[1;33m,\u001b[0m\u001b[1;36m2\u001b[0m\u001b[1;33m,\u001b[0m\u001b[1;33m(\u001b[0m\u001b[1;36m3\u001b[0m\u001b[1;33m,\u001b[0m\u001b[1;36m4\u001b[0m\u001b[1;33m,\u001b[0m\u001b[1;36m5\u001b[0m\u001b[1;33m)\u001b[0m\u001b[1;33m,\u001b[0m\u001b[1;36m6\u001b[0m\u001b[1;33m]\u001b[0m\u001b[1;33m\u001b[0m\u001b[1;33m\u001b[0m\u001b[0m\n\u001b[1;32m----> 2\u001b[1;33m \u001b[0mlist1\u001b[0m\u001b[1;33m[\u001b[0m\u001b[1;36m2\u001b[0m\u001b[1;33m]\u001b[0m\u001b[1;33m[\u001b[0m\u001b[1;36m1\u001b[0m\u001b[1;33m]\u001b[0m\u001b[1;33m+=\u001b[0m\u001b[1;33m(\u001b[0m\u001b[1;36m7\u001b[0m\u001b[1;33m,\u001b[0m\u001b[1;33m)\u001b[0m\u001b[1;33m\u001b[0m\u001b[1;33m\u001b[0m\u001b[0m\n\u001b[0m\u001b[0;32m      3\u001b[0m \u001b[0mlist1\u001b[0m\u001b[1;33m\u001b[0m\u001b[1;33m\u001b[0m\u001b[0m\n",
      "\u001b[1;31mTypeError\u001b[0m: unsupported operand type(s) for +=: 'int' and 'tuple'"
     ]
    }
   ],
   "source": [
    "list1=[1,2,(3,4,5),6]\n",
    "list1[2][1]+=(7,)\n",
    "list1"
   ]
  },
  {
   "cell_type": "code",
   "execution_count": 4,
   "metadata": {},
   "outputs": [
    {
     "name": "stdout",
     "output_type": "stream",
     "text": [
      "2100196230064\n",
      "2100196230064\n"
     ]
    }
   ],
   "source": [
    "str1=\"Hello\"\n",
    "#import copy\n",
    "str2=copy.copy(str1)\n",
    "print(id(str1))\n",
    "print(id(str2))\n"
   ]
  },
  {
   "cell_type": "code",
   "execution_count": 6,
   "metadata": {},
   "outputs": [
    {
     "name": "stdout",
     "output_type": "stream",
     "text": [
      "2100196230064\n",
      "2100164495088\n"
     ]
    }
   ],
   "source": [
    "str2=\"python\"\n",
    "print(id(str1))\n",
    "print(id(str2))"
   ]
  },
  {
   "cell_type": "code",
   "execution_count": 8,
   "metadata": {},
   "outputs": [
    {
     "name": "stdout",
     "output_type": "stream",
     "text": [
      "2100196230064\n",
      "2100164495088\n",
      "2100196230064\n"
     ]
    }
   ],
   "source": [
    "str3=copy.deepcopy(str1)\n",
    "print(id(str1))\n",
    "print(id(str2))\n",
    "print(id(str3))"
   ]
  },
  {
   "cell_type": "code",
   "execution_count": 9,
   "metadata": {},
   "outputs": [
    {
     "name": "stdout",
     "output_type": "stream",
     "text": [
      "2100196230064\n",
      "2100164495088\n",
      "2100196942960\n"
     ]
    }
   ],
   "source": [
    "str3=\"hello python\"\n",
    "print(id(str1))\n",
    "print(id(str2))\n",
    "print(id(str3))"
   ]
  },
  {
   "cell_type": "code",
   "execution_count": 11,
   "metadata": {},
   "outputs": [
    {
     "name": "stdout",
     "output_type": "stream",
     "text": [
      "Enter the values for set1:1,2,3,4\n",
      "{1, 2, 3, 4}\n"
     ]
    }
   ],
   "source": [
    "set1={int(val) for val in (input(\"Enter the values for set1:\").split(\",\"))}\n",
    "print(set1)"
   ]
  },
  {
   "cell_type": "code",
   "execution_count": null,
   "metadata": {},
   "outputs": [],
   "source": []
  }
 ],
 "metadata": {
  "kernelspec": {
   "display_name": "Python 3",
   "language": "python",
   "name": "python3"
  },
  "language_info": {
   "codemirror_mode": {
    "name": "ipython",
    "version": 3
   },
   "file_extension": ".py",
   "mimetype": "text/x-python",
   "name": "python",
   "nbconvert_exporter": "python",
   "pygments_lexer": "ipython3",
   "version": "3.8.5"
  }
 },
 "nbformat": 4,
 "nbformat_minor": 4
}
