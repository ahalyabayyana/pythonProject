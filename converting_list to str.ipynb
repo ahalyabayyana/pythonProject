{
 "cells": [
  {
   "cell_type": "code",
   "execution_count": 12,
   "metadata": {},
   "outputs": [
    {
     "name": "stdout",
     "output_type": "stream",
     "text": [
      "['One', 'two', 'three']\n",
      "One,two,three\n"
     ]
    }
   ],
   "source": [
    "#converting a string to a list\n",
    "str1=\"One,two,three\"\n",
    "print(str1.split(\",\"))\n",
    "print(str1)"
   ]
  },
  {
   "cell_type": "code",
   "execution_count": 52,
   "metadata": {},
   "outputs": [
    {
     "name": "stdout",
     "output_type": "stream",
     "text": [
      " 'one', 'two', 'three' \n",
      "\n",
      "one\n",
      "\n",
      "two\n",
      "\n",
      "three\n",
      "<class 'str'>\n"
     ]
    }
   ],
   "source": [
    "#converting a list of strings to a string\n",
    "str2=[\"one\",\"two\",\"three\"]\n",
    "str3=str(str2).replace('[',\" \")\n",
    "str4=str3.replace(']',\" \")\n",
    "print(str4)\n",
    "a=str4[2:5]\n",
    "b=str4[9:12]\n",
    "c=str4[16:21]\n",
    "print(\"\\n\"+a)\n",
    "print(\"\\n\"+b)\n",
    "print(\"\\n\"+c)\n",
    "print(type(a))"
   ]
  },
  {
   "cell_type": "code",
   "execution_count": 64,
   "metadata": {},
   "outputs": [
    {
     "name": "stdout",
     "output_type": "stream",
     "text": [
      "{'one': 1, 'two': 2, 'three': 3, 'four': 4, 'five': 5, 'six': 6}\n"
     ]
    }
   ],
   "source": [
    "#merging two dictionaries\n",
    "d1={\"one\":1,\"two\":2,\"three\":3}\n",
    "d2={\"four\":4,\"five\":5,\"six\":6}\n",
    "d3={**d1,**d2}\n",
    "print(d3)"
   ]
  },
  {
   "cell_type": "code",
   "execution_count": 65,
   "metadata": {},
   "outputs": [
    {
     "data": {
      "text/plain": [
       "[12, 23, 34, 45, 65, 34, 32, 45, 676, 87]"
      ]
     },
     "execution_count": 65,
     "metadata": {},
     "output_type": "execute_result"
    }
   ],
   "source": [
    "#Merging two lists\n",
    "l1=[12,23,34,45,65]\n",
    "l2=[34,32,45,676,87]\n",
    "l1.extend(l2)\n",
    "l1"
   ]
  },
  {
   "cell_type": "code",
   "execution_count": 83,
   "metadata": {},
   "outputs": [
    {
     "name": "stdout",
     "output_type": "stream",
     "text": [
      "(12, 23, 34, 34, 56, 676, 23, 34, 23, 234, 565, 76, 78)\n"
     ]
    }
   ],
   "source": [
    "#Combining two tuples into one\n",
    "t1=(12,23,34,34,56,676)\n",
    "t2=(23,34,23,234,565,76,78)\n",
    "t3=t1+t2\n",
    "print(t3)"
   ]
  },
  {
   "cell_type": "code",
   "execution_count": 73,
   "metadata": {},
   "outputs": [
    {
     "name": "stdout",
     "output_type": "stream",
     "text": [
      "{'one', 'Five', 'three', 'seven', 'six', 'four', 'two,'}\n"
     ]
    }
   ],
   "source": [
    "#combining two sets into one set\n",
    "s1={\"one\",\"two,\",\"three\",\"three\",\"four\"}\n",
    "s2={\"Five\",\"four\",\"three\",\"six\",\"seven\"}\n",
    "s3=s1.union(s2)\n",
    "print(s3)\n"
   ]
  },
  {
   "cell_type": "code",
   "execution_count": 81,
   "metadata": {},
   "outputs": [
    {
     "name": "stdout",
     "output_type": "stream",
     "text": [
      "{'one', 'two,', 'four', 'three'}\n",
      "{'seven', 'Five', 'six'}\n"
     ]
    }
   ],
   "source": [
    "len1=len(s3)//2\n",
    "len1\n",
    "for i in s3:\n",
    "    if(len(s3)<=len1):\n",
    "        s1=s3\n",
    "    elif(len(s3)>len1):\n",
    "        s2=s3-s1\n",
    "print(s1)\n",
    "print(s2)\n",
    "        \n"
   ]
  },
  {
   "cell_type": "code",
   "execution_count": 92,
   "metadata": {},
   "outputs": [
    {
     "ename": "TypeError",
     "evalue": "unsupported operand type(s) for -: 'tuple' and 'tuple'",
     "output_type": "error",
     "traceback": [
      "\u001b[1;31m---------------------------------------------------------------------------\u001b[0m",
      "\u001b[1;31mTypeError\u001b[0m                                 Traceback (most recent call last)",
      "\u001b[1;32m<ipython-input-92-9cc9ebd43a5d>\u001b[0m in \u001b[0;36m<module>\u001b[1;34m\u001b[0m\n\u001b[0;32m      5\u001b[0m         \u001b[0mt1\u001b[0m\u001b[1;33m=\u001b[0m\u001b[0mt3\u001b[0m\u001b[1;33m\u001b[0m\u001b[1;33m\u001b[0m\u001b[0m\n\u001b[0;32m      6\u001b[0m     \u001b[1;32melif\u001b[0m\u001b[1;33m(\u001b[0m\u001b[0mlen\u001b[0m\u001b[1;33m(\u001b[0m\u001b[0mt3\u001b[0m\u001b[1;33m)\u001b[0m\u001b[1;33m-\u001b[0m\u001b[1;36m1\u001b[0m\u001b[1;33m>\u001b[0m\u001b[0mlen1\u001b[0m\u001b[1;33m)\u001b[0m\u001b[1;33m:\u001b[0m\u001b[1;33m\u001b[0m\u001b[1;33m\u001b[0m\u001b[0m\n\u001b[1;32m----> 7\u001b[1;33m         \u001b[0mt2\u001b[0m\u001b[1;33m=\u001b[0m\u001b[0mt3\u001b[0m\u001b[1;33m-\u001b[0m\u001b[0mt1\u001b[0m\u001b[1;33m\u001b[0m\u001b[1;33m\u001b[0m\u001b[0m\n\u001b[0m\u001b[0;32m      8\u001b[0m \u001b[0mprint\u001b[0m\u001b[1;33m(\u001b[0m\u001b[0mt1\u001b[0m\u001b[1;33m)\u001b[0m\u001b[1;33m\u001b[0m\u001b[1;33m\u001b[0m\u001b[0m\n\u001b[0;32m      9\u001b[0m \u001b[0mprint\u001b[0m\u001b[1;33m(\u001b[0m\u001b[0mt2\u001b[0m\u001b[1;33m)\u001b[0m\u001b[1;33m\u001b[0m\u001b[1;33m\u001b[0m\u001b[0m\n",
      "\u001b[1;31mTypeError\u001b[0m: unsupported operand type(s) for -: 'tuple' and 'tuple'"
     ]
    }
   ],
   "source": [
    "len1=len(t3)//2\n",
    "len1\n",
    "for i in t3:\n",
    "    if(len(t3)<=len1):\n",
    "        t1=t3\n",
    "    elif(len(t3)-1>len1):\n",
    "        t2=t3-t1\n",
    "print(t1)\n",
    "print(t2)"
   ]
  },
  {
   "cell_type": "code",
   "execution_count": 93,
   "metadata": {},
   "outputs": [
    {
     "name": "stdout",
     "output_type": "stream",
     "text": [
      "Given list : \n",
      " [('Mon', 3), ('Wed', 4), ('Fri', 7, 'pm')]\n",
      "Final list: \n",
      " ['Mon', 3, 'Wed', 4, 'Fri', 7, 'pm']\n"
     ]
    }
   ],
   "source": [
    "listA = [('Mon', 3), ('Wed', 4), ('Fri', 7, 'pm')]\n",
    "# Given list\n",
    "print(\"Given list : \\n\", listA)\n",
    "res = [item for t in listA for item in t]\n",
    "# Result\n",
    "print(\"Final list: \\n\",res)"
   ]
  },
  {
   "cell_type": "code",
   "execution_count": 102,
   "metadata": {},
   "outputs": [
    {
     "name": "stdout",
     "output_type": "stream",
     "text": [
      "['one', 'two', 'three', 'four', 'five', 'six', 'seven']\n"
     ]
    }
   ],
   "source": [
    "#converting a list of tuples to list\n",
    "l1=[(\"one\",\"two\",\"three\"),(\"four\",\"five\"),(\"six\",\"seven\")]\n",
    "l1\n",
    "final_list=[j for i in l1 for j in i]\n",
    "print(final_list)\n",
    "    \n"
   ]
  },
  {
   "cell_type": "code",
   "execution_count": 108,
   "metadata": {},
   "outputs": [
    {
     "data": {
      "text/plain": [
       "['one', '1', 'two', '2']"
      ]
     },
     "execution_count": 108,
     "metadata": {},
     "output_type": "execute_result"
    }
   ],
   "source": [
    "#converting a string of lists to list of list\n",
    "str1=\"[one,1,two,2]\"\n",
    "\n",
    "l1=(str1.strip('[]')).split(\",\")\n",
    "l1"
   ]
  },
  {
   "cell_type": "code",
   "execution_count": 122,
   "metadata": {},
   "outputs": [
    {
     "name": "stdout",
     "output_type": "stream",
     "text": [
      "[['one'], ['two'], ['three'], ['four'], ['five']]\n"
     ]
    }
   ],
   "source": [
    "#converting a given list into a nested list\n",
    "l1=[\"one\",\"two\",\"three\",\"four\",\"five\"]\n",
    "final_list=[]\n",
    "for i in l1:\n",
    "    l2=i.split(\",\")\n",
    "    final_list.append(l2)\n",
    "print(final_list)    \n",
    "    "
   ]
  },
  {
   "cell_type": "code",
   "execution_count": null,
   "metadata": {},
   "outputs": [],
   "source": []
  }
 ],
 "metadata": {
  "kernelspec": {
   "display_name": "Python 3",
   "language": "python",
   "name": "python3"
  },
  "language_info": {
   "codemirror_mode": {
    "name": "ipython",
    "version": 3
   },
   "file_extension": ".py",
   "mimetype": "text/x-python",
   "name": "python",
   "nbconvert_exporter": "python",
   "pygments_lexer": "ipython3",
   "version": "3.8.5"
  }
 },
 "nbformat": 4,
 "nbformat_minor": 4
}
