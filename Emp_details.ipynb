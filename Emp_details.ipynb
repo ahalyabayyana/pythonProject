{
 "cells": [
  {
   "cell_type": "code",
   "execution_count": 17,
   "metadata": {
    "scrolled": true
   },
   "outputs": [
    {
     "name": "stdout",
     "output_type": "stream",
     "text": [
      "self 1 we 10000 m 5\n",
      "No self 1 we 12 m 5\n",
      "{'emp_id': 1, 'name': 'we', 'salary': 10000, 'sex': 'm', 'leaves': 5}\n",
      "self 2 aa 10000 f 2\n",
      "No self 2 aa 13 f 2\n",
      "{'emp_id': 2, 'name': 'aa', 'salary': 10000, 'sex': 'f', 'leaves': 2}\n"
     ]
    }
   ],
   "source": [
    "class emp:\n",
    "    def __init__(self,emp_id,emp_name,salary,sex,emp_leaves=20):\n",
    "        self.emp_id=emp_id\n",
    "        self.emp_name=emp_name\n",
    "        self.salary=10000\n",
    "        self.sex=sex\n",
    "        self.emp_leaves=emp_leaves\n",
    "        print(\"self\",self.emp_id,self.emp_name,self.salary,self.sex,self.emp_leaves)\n",
    "        print(\"No self\",emp_id,emp_name,salary,sex,emp_leaves)\n",
    "\n",
    "e1=emp(1,\"we\",12,\"m\",5)\n",
    "emp_details={\"emp_id\":e1.emp_id,\"name\":e1.emp_name,\"salary\":e1.salary,\"sex\":e1.sex,\"leaves\":e1.emp_leaves}\n",
    "print(emp_details)\n",
    "e2=emp(2,\"aa\",13,\"f\",2)\n",
    "emp_details.update({\"emp_id\":e2.emp_id,\"name\":e2.emp_name,\"salary\":e2.salary,\"sex\":e2.sex,\"leaves\":e2.emp_leaves})\n",
    "print(emp_details)"
   ]
  },
  {
   "cell_type": "code",
   "execution_count": 13,
   "metadata": {},
   "outputs": [
    {
     "name": "stdout",
     "output_type": "stream",
     "text": [
      "[0, 1, 4, 6, 9]\n"
     ]
    }
   ],
   "source": [
    "list = [\"1\", \"4\", \"0\", \"6\", \"9\"]\n",
    "list = [int(i) for i in list]\n",
    "list.sort()\n",
    "print (list)"
   ]
  },
  {
   "cell_type": "code",
   "execution_count": 27,
   "metadata": {},
   "outputs": [
    {
     "name": "stdout",
     "output_type": "stream",
     "text": [
      "[0, 1, 4, 6, 9]\n"
     ]
    }
   ],
   "source": [
    "list = [\"1\", \"4\", \"0\", \"6\", \"9\"]\n",
    "list=[int(i) for i in list]\n",
    "list.sort()\n",
    "print(list)"
   ]
  },
  {
   "cell_type": "code",
   "execution_count": 6,
   "metadata": {},
   "outputs": [
    {
     "name": "stdout",
     "output_type": "stream",
     "text": [
      "['Hello', 'world', 'everyone']\n"
     ]
    }
   ],
   "source": [
    "a=\"Hello world everyone\"\n",
    "print(a.split(\" \"))"
   ]
  },
  {
   "cell_type": "code",
   "execution_count": 47,
   "metadata": {},
   "outputs": [
    {
     "name": "stdout",
     "output_type": "stream",
     "text": [
      "6\n",
      "array('b', [1, 2, 3, 4, 5, 5])\n"
     ]
    }
   ],
   "source": [
    "import numpy\n",
    "import array as arr\n",
    "\n",
    "\n",
    "a=arr.array('b',[1,2,3,4,5,6])\n",
    "a.append(5)\n",
    "#a.extend([6,7])\n",
    "#a.insert(0,0)\n",
    "#a.insert(0,11)\n",
    "#a.remove(11)\n",
    "print(a.pop(5))\n",
    "print(a)"
   ]
  },
  {
   "cell_type": "code",
   "execution_count": 27,
   "metadata": {},
   "outputs": [
    {
     "name": "stdout",
     "output_type": "stream",
     "text": [
      "{10: 'ahalya', 20: 'rekha', 30: 'bayyana'}\n",
      "10 20 30\n"
     ]
    }
   ],
   "source": [
    "t1=[10,20,30,40]\n",
    "t2={\"ahalya\",\"bayyana\",\"rekha\"}\n",
    "a,b,c=dict(zip(t1,t2))\n",
    "print(dict(zip(t1,t2)))\n",
    "print(a,b,c)"
   ]
  },
  {
   "cell_type": "code",
   "execution_count": 30,
   "metadata": {},
   "outputs": [
    {
     "data": {
      "text/plain": [
       "5"
      ]
     },
     "execution_count": 30,
     "metadata": {},
     "output_type": "execute_result"
    }
   ],
   "source": [
    "fo=open(\"new.txt\",\"w\")\n",
    "fo.write(\"hello\")"
   ]
  },
  {
   "cell_type": "code",
   "execution_count": 37,
   "metadata": {},
   "outputs": [
    {
     "name": "stdout",
     "output_type": "stream",
     "text": [
      "The result is written to a file add_result.txt\n"
     ]
    }
   ],
   "source": [
    "class Parent:\n",
    "    def add(self,a,b):\n",
    "        self.a=a\n",
    "        self.b=b\n",
    "        fo=open(\"add_result.txt\",\"w\")\n",
    "        result=self.a+self.b\n",
    "        fo.write(f\"result of the operation is :{result}\")\n",
    "        print(\"The result is written to a file add_result.txt\")\n",
    "obj1=Parent() \n",
    "obj1.add(4,5)"
   ]
  },
  {
   "cell_type": "code",
   "execution_count": null,
   "metadata": {},
   "outputs": [],
   "source": []
  }
 ],
 "metadata": {
  "kernelspec": {
   "display_name": "Python 3",
   "language": "python",
   "name": "python3"
  },
  "language_info": {
   "codemirror_mode": {
    "name": "ipython",
    "version": 3
   },
   "file_extension": ".py",
   "mimetype": "text/x-python",
   "name": "python",
   "nbconvert_exporter": "python",
   "pygments_lexer": "ipython3",
   "version": "3.8.5"
  }
 },
 "nbformat": 4,
 "nbformat_minor": 4
}
