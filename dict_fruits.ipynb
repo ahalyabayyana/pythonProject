{
 "cells": [
  {
   "cell_type": "code",
   "execution_count": null,
   "metadata": {},
   "outputs": [],
   "source": [
    "dict_fam={\"family head\":\"Sub\",\"wife\":\"rekha\",\"child1\":\"Ritvik\",\"child2\":\"Pranav\"}\n",
    "dict_fam"
   ]
  },
  {
   "cell_type": "code",
   "execution_count": null,
   "metadata": {},
   "outputs": [],
   "source": [
    "dict_fam['new child']=\"girl baby\"\n",
    "dict_fam"
   ]
  },
  {
   "cell_type": "code",
   "execution_count": null,
   "metadata": {},
   "outputs": [],
   "source": [
    "dict_fam[\"new child\"]"
   ]
  },
  {
   "cell_type": "code",
   "execution_count": null,
   "metadata": {},
   "outputs": [],
   "source": [
    "dict_fam.value(\"rekha\")"
   ]
  },
  {
   "cell_type": "code",
   "execution_count": null,
   "metadata": {},
   "outputs": [],
   "source": [
    "dict_fam.items()\n",
    "print(dict_fam)\n",
    "print(\"rekha\" in dict_fam.values())"
   ]
  },
  {
   "cell_type": "code",
   "execution_count": null,
   "metadata": {},
   "outputs": [],
   "source": [
    "dict_fam[\"family head\"]=\"family_head\"\n",
    "dict_fam"
   ]
  },
  {
   "cell_type": "code",
   "execution_count": null,
   "metadata": {},
   "outputs": [],
   "source": [
    "dict_fam.update({\"family head\":\"sub\"})\n",
    "dict_fam"
   ]
  },
  {
   "cell_type": "code",
   "execution_count": null,
   "metadata": {},
   "outputs": [],
   "source": [
    "dict_fam[\"family head\"]=\"Subrahmanya kiran\"\n",
    "dict_fam"
   ]
  },
  {
   "cell_type": "code",
   "execution_count": 78,
   "metadata": {},
   "outputs": [
    {
     "data": {
      "text/plain": [
       "{'banana': [{'Mon 10am': 10, 'Mon 11am': 20, 'Mon 12pm': 30},\n",
       "  {'Tue 10am': 10, 'Tue 11am': 260, 'Tue 12pm': 320},\n",
       "  {'Wed 10am': 150, 'Wed 11am': 20, 'Wed 12pm': 340},\n",
       "  {'Thu 10am': 140, 'Thu 11am': 270, 'Thu 12pm': 30},\n",
       "  {'Fri 10am': 10, 'Fri 11am': 20, 'Fri 12pm': 30}],\n",
       " ' mango': [{'Mon 10am': 110, 'Mon 11am': 120, 'Mon 12pm': 130},\n",
       "  {'Tue 10am': 230, 'Tue 11am': 420, 'Tue 12pm': 13},\n",
       "  {'Wed 10am': 102, 'Wed 11am': 230, 'Wed 12pm': 310},\n",
       "  {'Thu 10am': 120, 'Thu 11am': 220, 'Thu 12pm': 130},\n",
       "  {'Fri 10am': 100, 'Fri 11am': 820, 'Fri 12pm': 330}],\n",
       " 'orange': [{'Mon 10am': 11, 'Mon 11am': 23, 'Mon 12pm': 34},\n",
       "  {'Tue 10am': 13, 'Tue 11am': 20, 'Tue 12pm': 3},\n",
       "  {'Wed 10am': 104, 'Wed 11am': 25, 'Wed 12pm': 33},\n",
       "  {'Thu 10am': 102, 'Thu 11am': 23, 'Thu 12pm': 32},\n",
       "  {'Fri 10am': 101, 'Fri 11am': 21, 'Fri 12pm': 34}]}"
      ]
     },
     "execution_count": 78,
     "metadata": {},
     "output_type": "execute_result"
    }
   ],
   "source": [
    "fruits_dict={\"banana\":[{\"Mon 10am\":10,\"Mon 11am\":20,\"Mon 12pm\":30},\n",
    "                       {\"Tue 10am\":10,\"Tue 11am\":260,\"Tue 12pm\":320},\n",
    "                       {\"Wed 10am\":150,\"Wed 11am\":20,\"Wed 12pm\":340},\n",
    "                       {\"Thu 10am\":140,\"Thu 11am\":270,\"Thu 12pm\":30},\n",
    "                       {\"Fri 10am\":10,\"Fri 11am\":20,\"Fri 12pm\":30}],\n",
    "             \" mango\":[{\"Mon 10am\":110,\"Mon 11am\":120,\"Mon 12pm\":130},\n",
    "                       {\"Tue 10am\":230,\"Tue 11am\":420,\"Tue 12pm\":13},\n",
    "                       {\"Wed 10am\":102,\"Wed 11am\":230,\"Wed 12pm\":310},\n",
    "                       {\"Thu 10am\":120,\"Thu 11am\":220,\"Thu 12pm\":130},\n",
    "                       {\"Fri 10am\":100,\"Fri 11am\":820,\"Fri 12pm\":330}],\n",
    "             \"orange\":[{\"Mon 10am\":11,\"Mon 11am\":23,\"Mon 12pm\":34},\n",
    "                       {\"Tue 10am\":13,\"Tue 11am\":20,\"Tue 12pm\":3},\n",
    "                       {\"Wed 10am\":104,\"Wed 11am\":25,\"Wed 12pm\":33},\n",
    "                       {\"Thu 10am\":102,\"Thu 11am\":23,\"Thu 12pm\":32},\n",
    "                       {\"Fri 10am\":101,\"Fri 11am\":21,\"Fri 12pm\":34}]}\n",
    "fruits_dict           "
   ]
  },
  {
   "cell_type": "code",
   "execution_count": null,
   "metadata": {},
   "outputs": [],
   "source": [
    "fruits_dict[\"mango\"][0][\"Mon 12pm\"]"
   ]
  },
  {
   "cell_type": "code",
   "execution_count": null,
   "metadata": {},
   "outputs": [],
   "source": [
    "fruits_dict[\"orange\"][4][\"Fri 10am\"]"
   ]
  },
  {
   "cell_type": "code",
   "execution_count": 79,
   "metadata": {},
   "outputs": [
    {
     "data": {
      "text/plain": [
       "{'banana': {'Mon': {'Mon 10am': 10, 'Mon 11am': 20, 'Mon 12pm': 30},\n",
       "  'Tue': {'Tue 10am': 10, 'Tue 11am': 260, 'Tue 12pm': 320},\n",
       "  'Wed': {'Wed 10am': 150, 'Wed 11am': 20, 'Wed 12pm': 340},\n",
       "  'Thu': {'Thu 10am': 140, 'Thu 11am': 270, 'Thu 12pm': 30},\n",
       "  'Fri': {'Fri 10am': 10, 'Fri 11am': 20, 'Fri 12pm': 30}},\n",
       " 'mango': {'Mon': {'Mon 10am': 110, 'Mon 11am': 120, 'Mon 12pm': 130},\n",
       "  'Tue': {'Tue 10am': 230, 'Tue 11am': 420, 'Tue 12pm': 13},\n",
       "  'Wed': {'Wed 10am': 102, 'Wed 11am': 230, 'Wed 12pm': 310},\n",
       "  'Thu': {'Thu 10am': 120, 'Thu 11am': 220, 'Thu 12pm': 130},\n",
       "  'Fri': {'Fri 10am': 100, 'Fri 11am': 820, 'Fri 12pm': 330}},\n",
       " 'orange': {'Mon': {'Mon 10am': 11, 'Mon 11am': 23, 'Mon 12pm': 34},\n",
       "  'Tue': {'Tue 10am': 13, 'Tue 11am': 20, 'Tue 12pm': 3},\n",
       "  'Wed': {'Wed 10am': 104, 'Wed 11am': 25, 'Wed 12pm': 33},\n",
       "  'Thu': {'Thu 10am': 102, 'Thu 11am': 23, 'Thu 12pm': 32},\n",
       "  'Fri': {'Fri 10am': 101, 'Fri 11am': 21, 'Fri 12pm': 34}}}"
      ]
     },
     "execution_count": 79,
     "metadata": {},
     "output_type": "execute_result"
    }
   ],
   "source": [
    "fruits_dict1={\"banana\":{\"Mon\":{\"Mon 10am\":10,\"Mon 11am\":20,\"Mon 12pm\":30},\n",
    "                        \"Tue\":{\"Tue 10am\":10,\"Tue 11am\":260,\"Tue 12pm\":320},\n",
    "                        \"Wed\":{\"Wed 10am\":150,\"Wed 11am\":20,\"Wed 12pm\":340},\n",
    "                        \"Thu\":{\"Thu 10am\":140,\"Thu 11am\":270,\"Thu 12pm\":30},\n",
    "                        \"Fri\":{\"Fri 10am\":10,\"Fri 11am\":20,\"Fri 12pm\":30}},\n",
    "             \"mango\":{\"Mon\":{\"Mon 10am\":110,\"Mon 11am\":120,\"Mon 12pm\":130},\n",
    "                       \"Tue\":{\"Tue 10am\":230,\"Tue 11am\":420,\"Tue 12pm\":13},\n",
    "                       \"Wed\":{\"Wed 10am\":102,\"Wed 11am\":230,\"Wed 12pm\":310},\n",
    "                       \"Thu\":{\"Thu 10am\":120,\"Thu 11am\":220,\"Thu 12pm\":130},\n",
    "                       \"Fri\":{\"Fri 10am\":100,\"Fri 11am\":820,\"Fri 12pm\":330}},\n",
    "             \"orange\":{\"Mon\":{\"Mon 10am\":11,\"Mon 11am\":23,\"Mon 12pm\":34},\n",
    "                       \"Tue\":{\"Tue 10am\":13,\"Tue 11am\":20,\"Tue 12pm\":3},\n",
    "                       \"Wed\":{\"Wed 10am\":104,\"Wed 11am\":25,\"Wed 12pm\":33},\n",
    "                       \"Thu\":{\"Thu 10am\":102,\"Thu 11am\":23,\"Thu 12pm\":32},\n",
    "                       \"Fri\":{\"Fri 10am\":101,\"Fri 11am\":21,\"Fri 12pm\":34}}}\n",
    "fruits_dict1              \n",
    "              "
   ]
  },
  {
   "cell_type": "code",
   "execution_count": 80,
   "metadata": {},
   "outputs": [
    {
     "data": {
      "text/plain": [
       "230"
      ]
     },
     "execution_count": 80,
     "metadata": {},
     "output_type": "execute_result"
    }
   ],
   "source": [
    "fruits_dict1[\"mango\"][\"Wed\"][\"Wed 11am\"]"
   ]
  },
  {
   "cell_type": "code",
   "execution_count": null,
   "metadata": {},
   "outputs": [],
   "source": [
    "fruits_dict1[\"Pom\"]={'Mon': {'Mon 10am': 10, 'Mon 11am': 20, 'Mon 12pm': 30},\n",
    "  'Tue': {'Tue 10am': 10, 'Tue 11am':260, 'Tue 12pm': 320},\n",
    "  'Wed': {'Wed 10am': 130, 'Wed 11am':120, 'Wed 12pm': 340},\n",
    "  'Thu': {'Thu 10am': 120, 'Thu 11am': 270, 'Thu 12pm': 30},\n",
    "  'Fri': {'Fri 10am': 10, 'Fri 11am': 20, 'Fri 12pm': 30}}\n",
    "fruits_dict1"
   ]
  },
  {
   "cell_type": "code",
   "execution_count": null,
   "metadata": {},
   "outputs": [],
   "source": [
    "fruits_dict1[\"mango\"][\"Wed\"][\"Wed 12pm\"]=40\n",
    "fruits_dict1"
   ]
  },
  {
   "cell_type": "code",
   "execution_count": null,
   "metadata": {},
   "outputs": [],
   "source": [
    "del fruits_dict1[\"Pom\"]\n",
    "fruits_dict1"
   ]
  },
  {
   "cell_type": "code",
   "execution_count": null,
   "metadata": {},
   "outputs": [],
   "source": [
    "fruits_dict1"
   ]
  },
  {
   "cell_type": "code",
   "execution_count": null,
   "metadata": {},
   "outputs": [],
   "source": [
    "fruits_dict1.update({\"Pom\":{'Mon': {'Mon 10am': 10, 'Mon 11am': 201, 'Mon 12pm': 303},\n",
    "                            'Tue': {'Tue 10am': 102, 'Tue 11am': 260, 'Tue 12pm': 320},\n",
    "                            'Wed': {'Wed 10am': 130, 'Wed 11am': 120, 'Wed 12pm': 340},\n",
    "                            'Thu': {'Thu 10am': 120, 'Thu 11am': 270, 'Thu 12pm': 30},\n",
    "                            'Fri': {'Fri 10am': 101, 'Fri 11am': 20, 'Fri 12pm': 30}}})\n",
    "fruits_dict1"
   ]
  },
  {
   "cell_type": "code",
   "execution_count": null,
   "metadata": {},
   "outputs": [],
   "source": [
    "fruits_dict2=fruits_dict1.copy()\n",
    "fruits_dict2"
   ]
  },
  {
   "cell_type": "code",
   "execution_count": null,
   "metadata": {},
   "outputs": [],
   "source": [
    "fruits_dict2.update({'banana': {'Mon': {'Mon 10am':12}}})\n",
    "fruits_dict2"
   ]
  },
  {
   "cell_type": "code",
   "execution_count": null,
   "metadata": {},
   "outputs": [],
   "source": [
    "fruits_dict2.update({'banana': {'Mon': {'Mon 10am': 12, 'Mon 11am': 20, 'Mon 12pm': 30}}})\n",
    "fruits_dict2"
   ]
  },
  {
   "cell_type": "code",
   "execution_count": null,
   "metadata": {},
   "outputs": [],
   "source": [
    "fruits_dict1[\"banana\"][\"Mon\"].keys()"
   ]
  },
  {
   "cell_type": "code",
   "execution_count": null,
   "metadata": {},
   "outputs": [],
   "source": []
  }
 ],
 "metadata": {
  "kernelspec": {
   "display_name": "Python 3",
   "language": "python",
   "name": "python3"
  },
  "language_info": {
   "codemirror_mode": {
    "name": "ipython",
    "version": 3
   },
   "file_extension": ".py",
   "mimetype": "text/x-python",
   "name": "python",
   "nbconvert_exporter": "python",
   "pygments_lexer": "ipython3",
   "version": "3.8.5"
  }
 },
 "nbformat": 4,
 "nbformat_minor": 4
}
