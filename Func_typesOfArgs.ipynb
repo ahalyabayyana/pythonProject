{
 "cells": [
  {
   "cell_type": "code",
   "execution_count": 173,
   "metadata": {},
   "outputs": [
    {
     "ename": "SyntaxError",
     "evalue": "invalid syntax (<ipython-input-173-95a3dfb5da35>, line 1)",
     "output_type": "error",
     "traceback": [
      "\u001b[1;36m  File \u001b[1;32m\"<ipython-input-173-95a3dfb5da35>\"\u001b[1;36m, line \u001b[1;32m1\u001b[0m\n\u001b[1;33m    def func1(a,b,*c,**d,e):\u001b[0m\n\u001b[1;37m                         ^\u001b[0m\n\u001b[1;31mSyntaxError\u001b[0m\u001b[1;31m:\u001b[0m invalid syntax\n"
     ]
    }
   ],
   "source": [
    "def func1(a,b,*c,**d,e):\n",
    "    e=\"hello\"\n",
    "    print(a)\n",
    "    print(b)\n",
    "    print(c)\n",
    "    print(d)\n",
    "    print(e)"
   ]
  },
  {
   "cell_type": "code",
   "execution_count": 174,
   "metadata": {},
   "outputs": [],
   "source": [
    "def func1(a,b,e,*c,**d):\n",
    "    e=\"hello\"\n",
    "    print(a)\n",
    "    print(b)\n",
    "    print(c)\n",
    "    print(d)\n",
    "    print(e)"
   ]
  },
  {
   "cell_type": "code",
   "execution_count": 175,
   "metadata": {},
   "outputs": [],
   "source": [
    "def func1(a,b,e=\"hello\",*c,**d):\n",
    "    \n",
    "    print(a)\n",
    "    print(b)\n",
    "    print(c)\n",
    "    print(d)\n",
    "    print(e)"
   ]
  },
  {
   "cell_type": "code",
   "execution_count": 176,
   "metadata": {},
   "outputs": [
    {
     "ename": "SyntaxError",
     "evalue": "invalid syntax (<ipython-input-176-1d320e8227b9>, line 1)",
     "output_type": "error",
     "traceback": [
      "\u001b[1;36m  File \u001b[1;32m\"<ipython-input-176-1d320e8227b9>\"\u001b[1;36m, line \u001b[1;32m1\u001b[0m\n\u001b[1;33m    def func1(a,b,*c,**d,e=\"hello\"):\u001b[0m\n\u001b[1;37m                         ^\u001b[0m\n\u001b[1;31mSyntaxError\u001b[0m\u001b[1;31m:\u001b[0m invalid syntax\n"
     ]
    }
   ],
   "source": [
    "def func1(a,b,*c,**d,e=\"hello\"):\n",
    "    \n",
    "    print(a)\n",
    "    print(b)\n",
    "    print(c)\n",
    "    print(d)\n",
    "    print(e)"
   ]
  },
  {
   "cell_type": "code",
   "execution_count": 177,
   "metadata": {},
   "outputs": [
    {
     "name": "stdout",
     "output_type": "stream",
     "text": [
      "10\n",
      "20\n",
      "(12, 13, 14)\n",
      "{'one': 1, 'two': 2, 'three': 3}\n",
      "12\n"
     ]
    }
   ],
   "source": [
    "func1(10,20,12,12,13,14,one=1,two=2,three=3)"
   ]
  },
  {
   "cell_type": "code",
   "execution_count": 178,
   "metadata": {},
   "outputs": [],
   "source": [
    "def func10(a,b,*c,e=\"hello\",**d):\n",
    "    \n",
    "    print(a)\n",
    "    print(b)\n",
    "    print(c)\n",
    "    print(d)\n",
    "    print(e)"
   ]
  },
  {
   "cell_type": "code",
   "execution_count": 179,
   "metadata": {},
   "outputs": [
    {
     "ename": "SyntaxError",
     "evalue": "positional argument follows keyword argument (<ipython-input-179-745cd86c77de>, line 1)",
     "output_type": "error",
     "traceback": [
      "\u001b[1;36m  File \u001b[1;32m\"<ipython-input-179-745cd86c77de>\"\u001b[1;36m, line \u001b[1;32m1\u001b[0m\n\u001b[1;33m    func10(10,b=20,[0,1,2,3],one=1,two=2,e=\"hi\")  #def func10(a,b,*c,e=\"hello\",**d):\u001b[0m\n\u001b[1;37m                   ^\u001b[0m\n\u001b[1;31mSyntaxError\u001b[0m\u001b[1;31m:\u001b[0m positional argument follows keyword argument\n"
     ]
    }
   ],
   "source": [
    "func10(10,b=20,[0,1,2,3],one=1,two=2,e=\"hi\")  #def func10(a,b,*c,e=\"hello\",**d):"
   ]
  },
  {
   "cell_type": "code",
   "execution_count": 180,
   "metadata": {},
   "outputs": [
    {
     "ename": "TypeError",
     "evalue": "func10() got multiple values for argument 'b'",
     "output_type": "error",
     "traceback": [
      "\u001b[1;31m---------------------------------------------------------------------------\u001b[0m",
      "\u001b[1;31mTypeError\u001b[0m                                 Traceback (most recent call last)",
      "\u001b[1;32m<ipython-input-180-8a5cd4bca289>\u001b[0m in \u001b[0;36m<module>\u001b[1;34m\u001b[0m\n\u001b[1;32m----> 1\u001b[1;33m \u001b[0mfunc10\u001b[0m\u001b[1;33m(\u001b[0m\u001b[1;36m10\u001b[0m\u001b[1;33m,\u001b[0m\u001b[1;33m[\u001b[0m\u001b[1;36m0\u001b[0m\u001b[1;33m,\u001b[0m\u001b[1;36m1\u001b[0m\u001b[1;33m,\u001b[0m\u001b[1;36m2\u001b[0m\u001b[1;33m,\u001b[0m\u001b[1;36m3\u001b[0m\u001b[1;33m]\u001b[0m\u001b[1;33m,\u001b[0m\u001b[0mone\u001b[0m\u001b[1;33m=\u001b[0m\u001b[1;36m1\u001b[0m\u001b[1;33m,\u001b[0m\u001b[0mtwo\u001b[0m\u001b[1;33m=\u001b[0m\u001b[1;36m2\u001b[0m\u001b[1;33m,\u001b[0m\u001b[0me\u001b[0m\u001b[1;33m=\u001b[0m\u001b[1;34m\"hi\"\u001b[0m\u001b[1;33m,\u001b[0m\u001b[0mb\u001b[0m\u001b[1;33m=\u001b[0m\u001b[1;36m20\u001b[0m\u001b[1;33m)\u001b[0m   \u001b[1;31m#def func10(a,b,*c,e=\"hello\",**d):\u001b[0m\u001b[1;33m\u001b[0m\u001b[1;33m\u001b[0m\u001b[0m\n\u001b[0m",
      "\u001b[1;31mTypeError\u001b[0m: func10() got multiple values for argument 'b'"
     ]
    }
   ],
   "source": [
    "func10(10,[0,1,2,3],one=1,two=2,e=\"hi\",b=20)   #def func10(a,b,*c,e=\"hello\",**d):"
   ]
  },
  {
   "cell_type": "code",
   "execution_count": 181,
   "metadata": {},
   "outputs": [
    {
     "name": "stdout",
     "output_type": "stream",
     "text": [
      "10\n",
      "20\n",
      "()\n",
      "{'c': [0, 1, 2, 3], 'one': 1, 'two': 2}\n",
      "hi\n"
     ]
    }
   ],
   "source": [
    "func10(10,b=20,c=[0,1,2,3],one=1,two=2,e=\"hi\")  #c is taken into dictionary object  ,def func10(a,b,*c,e=\"hello\",**d):"
   ]
  },
  {
   "cell_type": "code",
   "execution_count": 182,
   "metadata": {},
   "outputs": [
    {
     "name": "stdout",
     "output_type": "stream",
     "text": [
      "10\n",
      "20\n",
      "([0, 1, 2, 3],)\n",
      "{'one': 1, 'two': 2}\n",
      "hi\n"
     ]
    }
   ],
   "source": [
    "func10(10,20,[0,1,2,3],one=1,two=2,e=\"hi\")  #def func10(a,b,*c,e=\"hello\",**d):"
   ]
  },
  {
   "cell_type": "code",
   "execution_count": 183,
   "metadata": {},
   "outputs": [
    {
     "ename": "SyntaxError",
     "evalue": "positional argument follows keyword argument (<ipython-input-183-2ab7d7214569>, line 1)",
     "output_type": "error",
     "traceback": [
      "\u001b[1;36m  File \u001b[1;32m\"<ipython-input-183-2ab7d7214569>\"\u001b[1;36m, line \u001b[1;32m1\u001b[0m\n\u001b[1;33m    func10(10,b=20,0,1,2,3,one=1,two=2,e=\"hi\")  #def func10(a,b,*c,e=\"hello\",**d):\u001b[0m\n\u001b[1;37m                   ^\u001b[0m\n\u001b[1;31mSyntaxError\u001b[0m\u001b[1;31m:\u001b[0m positional argument follows keyword argument\n"
     ]
    }
   ],
   "source": [
    "func10(10,b=20,0,1,2,3,one=1,two=2,e=\"hi\")  #def func10(a,b,*c,e=\"hello\",**d):"
   ]
  },
  {
   "cell_type": "code",
   "execution_count": 184,
   "metadata": {},
   "outputs": [
    {
     "name": "stdout",
     "output_type": "stream",
     "text": [
      "10\n",
      "20\n",
      "(0, 1, 2, 3)\n",
      "{'one': 1, 'two': 2}\n",
      "hi\n"
     ]
    }
   ],
   "source": [
    "func10(10,20,0,1,2,3,e=\"hi\",one=1,two=2)  #def func10(a,b,*c,e=\"hello\",**d):"
   ]
  },
  {
   "cell_type": "code",
   "execution_count": 185,
   "metadata": {},
   "outputs": [
    {
     "name": "stdout",
     "output_type": "stream",
     "text": [
      "10\n",
      "20\n",
      "({0, 1, 2, 3},)\n",
      "{'one': 1, 'two': 2}\n",
      "hi\n"
     ]
    }
   ],
   "source": [
    "func10(10,20,{0,1,2,3},one=1,two=2,e=\"hi\")  #def func10(a,b,*c,e=\"hello\",**d):"
   ]
  },
  {
   "cell_type": "code",
   "execution_count": 186,
   "metadata": {},
   "outputs": [
    {
     "name": "stdout",
     "output_type": "stream",
     "text": [
      "10\n",
      "20\n",
      "({0, 1, 2, 3},)\n",
      "{'one': 1, 'two': 2}\n",
      "hi\n"
     ]
    }
   ],
   "source": [
    "func10(10,20,{0,1,2,3},e=\"hi\",one=1,two=2)  #def func10(a,b,*c,e=\"hello\",**d):"
   ]
  },
  {
   "cell_type": "code",
   "execution_count": 187,
   "metadata": {},
   "outputs": [],
   "source": [
    "def func2(**d):\n",
    "    print(d)"
   ]
  },
  {
   "cell_type": "code",
   "execution_count": 188,
   "metadata": {},
   "outputs": [
    {
     "name": "stdout",
     "output_type": "stream",
     "text": [
      "{'one': 1, 'two': 2}\n"
     ]
    }
   ],
   "source": [
    "func2(one=1,two=2)"
   ]
  },
  {
   "cell_type": "code",
   "execution_count": 189,
   "metadata": {},
   "outputs": [
    {
     "name": "stdout",
     "output_type": "stream",
     "text": [
      "{'i': 1, 'j': 2}\n"
     ]
    }
   ],
   "source": [
    "func2(i=1,j=2)"
   ]
  },
  {
   "cell_type": "code",
   "execution_count": 190,
   "metadata": {},
   "outputs": [],
   "source": [
    "def func3(*val):\n",
    "    print(val)"
   ]
  },
  {
   "cell_type": "code",
   "execution_count": 191,
   "metadata": {},
   "outputs": [
    {
     "name": "stdout",
     "output_type": "stream",
     "text": [
      "([1, 2, 3, 4, 5],)\n"
     ]
    }
   ],
   "source": [
    "func3([1,2,3,4,5])"
   ]
  },
  {
   "cell_type": "code",
   "execution_count": 192,
   "metadata": {},
   "outputs": [
    {
     "ename": "TypeError",
     "evalue": "func3() got an unexpected keyword argument 'val'",
     "output_type": "error",
     "traceback": [
      "\u001b[1;31m---------------------------------------------------------------------------\u001b[0m",
      "\u001b[1;31mTypeError\u001b[0m                                 Traceback (most recent call last)",
      "\u001b[1;32m<ipython-input-192-e95c93cf075b>\u001b[0m in \u001b[0;36m<module>\u001b[1;34m\u001b[0m\n\u001b[1;32m----> 1\u001b[1;33m \u001b[0mfunc3\u001b[0m\u001b[1;33m(\u001b[0m\u001b[0mval\u001b[0m\u001b[1;33m=\u001b[0m\u001b[1;33m[\u001b[0m\u001b[1;36m12\u001b[0m\u001b[1;33m,\u001b[0m\u001b[1;36m13\u001b[0m\u001b[1;33m,\u001b[0m\u001b[1;36m14\u001b[0m\u001b[1;33m]\u001b[0m\u001b[1;33m)\u001b[0m\u001b[1;33m\u001b[0m\u001b[1;33m\u001b[0m\u001b[0m\n\u001b[0m",
      "\u001b[1;31mTypeError\u001b[0m: func3() got an unexpected keyword argument 'val'"
     ]
    }
   ],
   "source": [
    "func3(val=[12,13,14])"
   ]
  },
  {
   "cell_type": "code",
   "execution_count": 193,
   "metadata": {},
   "outputs": [
    {
     "name": "stdout",
     "output_type": "stream",
     "text": [
      "([12, 13, 14],)\n"
     ]
    }
   ],
   "source": [
    "val=[12,13,14]\n",
    "func3(val)             #def func3(*val):"
   ]
  },
  {
   "cell_type": "code",
   "execution_count": 194,
   "metadata": {},
   "outputs": [],
   "source": [
    "def func4(*val,**x):\n",
    "    print(val)\n",
    "    print(x)"
   ]
  },
  {
   "cell_type": "code",
   "execution_count": 195,
   "metadata": {},
   "outputs": [
    {
     "name": "stdout",
     "output_type": "stream",
     "text": [
      "([1, 2, 3, 4],)\n",
      "{'one': 1, 'two': 2, 'three': 3}\n"
     ]
    }
   ],
   "source": [
    "func4([1,2,3,4],one=1,two=2,three=3)"
   ]
  },
  {
   "cell_type": "code",
   "execution_count": 196,
   "metadata": {},
   "outputs": [
    {
     "name": "stdout",
     "output_type": "stream",
     "text": [
      "(1, 2, 3, 4)\n",
      "{'one': 1, 'two': 2, 'three': 3}\n"
     ]
    }
   ],
   "source": [
    "func4(1,2,3,4,one=1,two=2,three=3)"
   ]
  },
  {
   "cell_type": "code",
   "execution_count": 197,
   "metadata": {},
   "outputs": [
    {
     "name": "stdout",
     "output_type": "stream",
     "text": [
      "()\n",
      "{'one': 1, 'two': 2, 'three': 3, 'val': [1, 2, 3, 4]}\n"
     ]
    }
   ],
   "source": [
    "func4(one=1,two=2,three=3,val=[1,2,3,4])  #val is taken into dictonary"
   ]
  },
  {
   "cell_type": "code",
   "execution_count": 198,
   "metadata": {},
   "outputs": [
    {
     "ename": "SyntaxError",
     "evalue": "positional argument follows keyword argument (<ipython-input-198-d19c926a326a>, line 1)",
     "output_type": "error",
     "traceback": [
      "\u001b[1;36m  File \u001b[1;32m\"<ipython-input-198-d19c926a326a>\"\u001b[1;36m, line \u001b[1;32m1\u001b[0m\n\u001b[1;33m    func4(one=1,two=2,three=3,[1,2,3,4])   #def func4(*val,**x):\u001b[0m\n\u001b[1;37m                              ^\u001b[0m\n\u001b[1;31mSyntaxError\u001b[0m\u001b[1;31m:\u001b[0m positional argument follows keyword argument\n"
     ]
    }
   ],
   "source": [
    "func4(one=1,two=2,three=3,[1,2,3,4])   #def func4(*val,**x):"
   ]
  },
  {
   "cell_type": "code",
   "execution_count": 199,
   "metadata": {},
   "outputs": [
    {
     "name": "stdout",
     "output_type": "stream",
     "text": [
      "([1, 2, 3, 4],)\n",
      "{'one': 1, 'two': 2, 'three': 3}\n"
     ]
    }
   ],
   "source": [
    "func4([1,2,3,4],one=1,two=2,three=3)"
   ]
  },
  {
   "cell_type": "code",
   "execution_count": 200,
   "metadata": {},
   "outputs": [
    {
     "ename": "SyntaxError",
     "evalue": "non-default argument follows default argument (<ipython-input-200-59cf1ab7d358>, line 1)",
     "output_type": "error",
     "traceback": [
      "\u001b[1;36m  File \u001b[1;32m\"<ipython-input-200-59cf1ab7d358>\"\u001b[1;36m, line \u001b[1;32m1\u001b[0m\n\u001b[1;33m    def func5(a=10,b,c,**x):\u001b[0m\n\u001b[1;37m              ^\u001b[0m\n\u001b[1;31mSyntaxError\u001b[0m\u001b[1;31m:\u001b[0m non-default argument follows default argument\n"
     ]
    }
   ],
   "source": [
    "def func5(a=10,b,c,**x):\n",
    "    print(a)\n",
    "    print(b)\n",
    "    print(c)\n",
    "    print(x)"
   ]
  },
  {
   "cell_type": "code",
   "execution_count": 201,
   "metadata": {},
   "outputs": [
    {
     "ename": "SyntaxError",
     "evalue": "invalid syntax (<ipython-input-201-9e7e822d245c>, line 1)",
     "output_type": "error",
     "traceback": [
      "\u001b[1;36m  File \u001b[1;32m\"<ipython-input-201-9e7e822d245c>\"\u001b[1;36m, line \u001b[1;32m1\u001b[0m\n\u001b[1;33m    def func5(a,b,**x,c=10):\u001b[0m\n\u001b[1;37m                      ^\u001b[0m\n\u001b[1;31mSyntaxError\u001b[0m\u001b[1;31m:\u001b[0m invalid syntax\n"
     ]
    }
   ],
   "source": [
    "def func5(a,b,**x,c=10):\n",
    "    print(a)\n",
    "    print(b)\n",
    "    print(c)\n",
    "    print(x)"
   ]
  },
  {
   "cell_type": "code",
   "execution_count": 202,
   "metadata": {},
   "outputs": [],
   "source": [
    "def func5(a,b,c=10,**x):\n",
    "    print(a)\n",
    "    print(b)\n",
    "    print(c)\n",
    "    print(x)"
   ]
  },
  {
   "cell_type": "code",
   "execution_count": null,
   "metadata": {},
   "outputs": [],
   "source": [
    "func5(10,b=20,c=40,one=1,two=2)"
   ]
  },
  {
   "cell_type": "code",
   "execution_count": null,
   "metadata": {},
   "outputs": [],
   "source": [
    "func5(10,b=20,one=1,two=2)"
   ]
  },
  {
   "cell_type": "code",
   "execution_count": null,
   "metadata": {},
   "outputs": [],
   "source": [
    "def func6(a,b=20,*c):\n",
    "    print(a)\n",
    "    print(b)\n",
    "    print(c)"
   ]
  },
  {
   "cell_type": "code",
   "execution_count": null,
   "metadata": {},
   "outputs": [],
   "source": [
    "func6(a=10,1,2,3,4)   #def func6(a,b=20,*c):"
   ]
  },
  {
   "cell_type": "code",
   "execution_count": null,
   "metadata": {},
   "outputs": [],
   "source": [
    "func6(1,2,3,4,a=10)   #def func6(a,b=20,*c):"
   ]
  },
  {
   "cell_type": "code",
   "execution_count": null,
   "metadata": {},
   "outputs": [],
   "source": [
    "func6(10,1,2,3,4)  #observe carefully b is not taking the default value,,#def func6(a,b=20,*c):"
   ]
  },
  {
   "cell_type": "code",
   "execution_count": null,
   "metadata": {},
   "outputs": [],
   "source": [
    "func6(a=10,b=20,12345)  #def func6(a,b=20,*c):"
   ]
  },
  {
   "cell_type": "code",
   "execution_count": null,
   "metadata": {},
   "outputs": [],
   "source": [
    "func6(12345,a=10,b=20)  #def func6(a,b=20,*c):"
   ]
  },
  {
   "cell_type": "code",
   "execution_count": null,
   "metadata": {},
   "outputs": [],
   "source": [
    "func6(c=12345,a=10,b=20)  #def func6(a,b=20,*c):"
   ]
  },
  {
   "cell_type": "code",
   "execution_count": null,
   "metadata": {},
   "outputs": [],
   "source": [
    "func6(c=(12345),a=10,b=20)"
   ]
  },
  {
   "cell_type": "code",
   "execution_count": null,
   "metadata": {},
   "outputs": [],
   "source": [
    "func6((12345),a=10,b=20)"
   ]
  },
  {
   "cell_type": "code",
   "execution_count": null,
   "metadata": {},
   "outputs": [],
   "source": [
    "func6(a=10,b=20,(12,34,5))"
   ]
  },
  {
   "cell_type": "code",
   "execution_count": null,
   "metadata": {},
   "outputs": [],
   "source": [
    "func6(10,20,(12,34,5))"
   ]
  },
  {
   "cell_type": "code",
   "execution_count": 203,
   "metadata": {},
   "outputs": [
    {
     "ename": "NameError",
     "evalue": "name 'python_version' is not defined",
     "output_type": "error",
     "traceback": [
      "\u001b[1;31m---------------------------------------------------------------------------\u001b[0m",
      "\u001b[1;31mNameError\u001b[0m                                 Traceback (most recent call last)",
      "\u001b[1;32m<ipython-input-203-6639103d353c>\u001b[0m in \u001b[0;36m<module>\u001b[1;34m\u001b[0m\n\u001b[1;32m----> 1\u001b[1;33m \u001b[0mpython_version\u001b[0m\u001b[1;33m\u001b[0m\u001b[1;33m\u001b[0m\u001b[0m\n\u001b[0m",
      "\u001b[1;31mNameError\u001b[0m: name 'python_version' is not defined"
     ]
    }
   ],
   "source": [
    "python_version"
   ]
  },
  {
   "cell_type": "code",
   "execution_count": 211,
   "metadata": {},
   "outputs": [
    {
     "ename": "ModuleNotFoundError",
     "evalue": "No module named 'python_'",
     "output_type": "error",
     "traceback": [
      "\u001b[1;31m---------------------------------------------------------------------------\u001b[0m",
      "\u001b[1;31mModuleNotFoundError\u001b[0m                       Traceback (most recent call last)",
      "\u001b[1;32m<ipython-input-211-08f7b1021555>\u001b[0m in \u001b[0;36m<module>\u001b[1;34m\u001b[0m\n\u001b[1;32m----> 1\u001b[1;33m \u001b[1;32mimport\u001b[0m \u001b[0mpython_\u001b[0m\u001b[1;33m\u001b[0m\u001b[1;33m\u001b[0m\u001b[0m\n\u001b[0m",
      "\u001b[1;31mModuleNotFoundError\u001b[0m: No module named 'python_'"
     ]
    }
   ],
   "source": [
    "import python_\n"
   ]
  },
  {
   "cell_type": "code",
   "execution_count": 209,
   "metadata": {},
   "outputs": [
    {
     "name": "stdout",
     "output_type": "stream",
     "text": [
      "\n",
      "Please wait a moment while I gather a list of all available modules...\n",
      "\n"
     ]
    },
    {
     "name": "stderr",
     "output_type": "stream",
     "text": [
      "C:\\Users\\ahaly\\anaconda3\\lib\\site-packages\\IPython\\kernel\\__init__.py:12: ShimWarning: The `IPython.kernel` package has been deprecated since IPython 4.0.You should import from ipykernel or jupyter_client instead.\n",
      "  warn(\"The `IPython.kernel` package has been deprecated since IPython 4.0.\"\n",
      "C:\\Users\\ahaly\\anaconda3\\lib\\pkgutil.py:92: MatplotlibDeprecationWarning: \n",
      "The matplotlib.compat module was deprecated in Matplotlib 3.3 and will be removed two minor releases later.\n",
      "  __import__(info.name)\n",
      "C:\\Users\\ahaly\\anaconda3\\lib\\site-packages\\nltk\\twitter\\__init__.py:21: UserWarning: The twython library has not been installed. Some functionality from the twitter package will not be available.\n",
      "  warnings.warn(\n",
      "C:\\Users\\ahaly\\anaconda3\\lib\\site-packages\\skimage\\viewer\\utils\\__init__.py:1: UserWarning: Recommended matplotlib backend is `Agg` for full skimage.viewer functionality.\n",
      "  from .core import *\n",
      "C:\\Users\\ahaly\\anaconda3\\lib\\site-packages\\qtawesome\\iconic_font.py:311: UserWarning: You need to have a running QApplication to use QtAwesome!\n",
      "  warnings.warn(\"You need to have a running \"\n",
      "C:\\Users\\ahaly\\anaconda3\\lib\\pkgutil.py:107: VisibleDeprecationWarning: zmq.eventloop.minitornado is deprecated in pyzmq 14.0 and will be removed.\n",
      "    Install tornado itself to use zmq with the tornado IOLoop.\n",
      "    \n",
      "  yield from walk_packages(path, info.name+'.', onerror)\n"
     ]
    },
    {
     "name": "stdout",
     "output_type": "stream",
     "text": [
      "Cython              brain_responses     marshal             snowballstemmer\n",
      "IPython             brain_scipy_signal  math                socket\n",
      "OpenSSL             brain_six           matplotlib          socketserver\n",
      "PIL                 brain_ssl           mccabe              socks\n",
      "PyQt5               brain_subprocess    menuinst            sockshandler\n",
      "__future__          brain_threading     mimetypes           sortedcollections\n",
      "_abc                brain_typing        mistune             sortedcontainers\n",
      "_ast                brain_uuid          mkl                 soupsieve\n",
      "_asyncio            brotli              mkl_fft             sphinx\n",
      "_bisect             bs4                 mkl_random          sphinxcontrib\n",
      "_blake2             builtins            mmap                spyder\n",
      "_bootlocale         bz2                 mmapfile            spyder_kernels\n",
      "_bz2                cProfile            mmsystem            sqlalchemy\n",
      "_cffi_backend       calendar            mock                sqlite3\n",
      "_codecs             certifi             modulefinder        sre_compile\n",
      "_codecs_cn          cffi                more_itertools      sre_constants\n",
      "_codecs_hk          cgi                 mpmath              sre_parse\n",
      "_codecs_iso2022     cgitb               msgpack             ssl\n",
      "_codecs_jp          chardet             msilib              sspi\n",
      "_codecs_kr          chunk               msvcrt              sspicon\n",
      "_codecs_tw          click               multipledispatch    stat\n",
      "_collections        cloudpickle         multiprocessing     statistics\n",
      "_collections_abc    clyent              mysql               statsmodels\n",
      "_compat_pickle      cmath               mysqlx              storemagic\n",
      "_compression        cmd                 nacl                string\n",
      "_contextvars        code                navigator_updater   stringprep\n",
      "_csv                codecs              nbclient            struct\n",
      "_ctypes             codeop              nbconvert           subprocess\n",
      "_ctypes_test        collections         nbformat            sunau\n",
      "_datetime           colorama            nest_asyncio        symbol\n",
      "_decimal            colorsys            netbios             sympy\n",
      "_distutils_hack     commctrl            netrc               sympyprinting\n",
      "_dummy_thread       compileall          networkx            symtable\n",
      "_elementtree        comtypes            nltk                sys\n",
      "_functools          concurrent          nntplib             sysconfig\n",
      "_hashlib            conda               nose                tables\n",
      "_heapq              conda_build         notebook            tabnanny\n",
      "_imp                conda_env           nt                  tarfile\n",
      "_io                 conda_package_handling ntpath              tblib\n",
      "_json               conda_verify        ntsecuritycon       telnetlib\n",
      "_locale             configparser        nturl2path          tempfile\n",
      "_lsprof             contextlib          numba               terminado\n",
      "_lzma               contextlib2         numbers             test\n",
      "_markupbase         contextvars         numexpr             test_data\n",
      "_md5                copy                numpy               test_pycosat\n",
      "_msi                copyreg             numpydoc            testpath\n",
      "_multibytecodec     crypt               odbc                tests\n",
      "_multiprocessing    cryptography        olefile             textwrap\n",
      "_nsis               csv                 opcode              this\n",
      "_opcode             ctypes              openpyxl            threading\n",
      "_operator           curl                operator            threadpoolctl\n",
      "_osx_support        curses              optparse            tifffile\n",
      "_overlapped         cwp                 os                  time\n",
      "_pickle             cycler              packaging           timeit\n",
      "_py_abc             cython              pandas              timer\n",
      "_pydecimal          cythonmagic         pandocfilters       tkinter\n",
      "_pyio               cytoolz             paramiko            tlz\n",
      "_pyrsistent_version dask                parser              token\n",
      "_pytest             dataclasses         parso               tokenize\n",
      "_queue              datetime            partd               toml\n",
      "_random             dateutil            past                toolz\n",
      "_sha1               dbi                 path                tornado\n",
      "_sha256             dbm                 pathlib             tqdm\n",
      "_sha3               dde                 pathlib2            trace\n",
      "_sha512             decimal             pathtools           traceback\n",
      "_signal             decorator           patsy               tracemalloc\n",
      "_sitebuiltins       defusedxml          pdb                 traitlets\n",
      "_socket             diff_match_patch    pep8                tty\n",
      "_sqlite3            difflib             perfmon             turtle\n",
      "_sre                dis                 pexpect             turtledemo\n",
      "_ssl                distributed         pickle              types\n",
      "_stat               distutils           pickleshare         typing\n",
      "_statistics         doctest             pickletools         typing_extensions\n",
      "_string             docutils            pip                 ujson\n",
      "_strptime           dummy_threading     pipes               unicodecsv\n",
      "_struct             easy_install        pkg_resources       unicodedata\n",
      "_symtable           email               pkginfo             unittest\n",
      "_system_path        encodings           pkgutil             urllib\n",
      "_testbuffer         ensurepip           platform            urllib3\n",
      "_testcapi           entrypoints         plistlib            uu\n",
      "_testconsole        enum                pluggy              uuid\n",
      "_testimportmultiple errno               ply                 venv\n",
      "_testinternalcapi   et_xmlfile          poplib              warnings\n",
      "_testmultiphase     fastcache           posixpath           watchdog\n",
      "_thread             faulthandler        pprint              wave\n",
      "_threading_local    filecmp             profile             wcwidth\n",
      "_tkinter            fileinput           prometheus_client   weakref\n",
      "_tracemalloc        filelock            prompt_toolkit      webbrowser\n",
      "_warnings           flake8              pstats              webencodings\n",
      "_weakref            flask               psutil              werkzeug\n",
      "_weakrefset         fnmatch             pty                 wheel\n",
      "_win32sysloader     formatter           pvectorc            widgetsnbextension\n",
      "_winapi             fractions           py                  win2kras\n",
      "_winxptheme         fsspec              py_compile          win32api\n",
      "_xxsubinterpreters  ftplib              pyclbr              win32clipboard\n",
      "_yaml               functools           pycodestyle         win32com\n",
      "abc                 future              pycosat             win32con\n",
      "adodbapi            gc                  pycparser           win32console\n",
      "afxres              genericpath         pycurl              win32cred\n",
      "aifc                getopt              pydoc               win32crypt\n",
      "alabaster           getpass             pydoc_data          win32cryptcon\n",
      "anaconda_navigator  gettext             pydocstyle          win32ctypes\n",
      "anaconda_project    gevent              pyexpat             win32event\n",
      "antigravity         glob                pyflakes            win32evtlog\n",
      "argh                glob2               pygments            win32evtlogutil\n",
      "argon2              greenlet            pylab               win32file\n",
      "argparse            gzip                pylint              win32gui\n",
      "array               h5py                pyls                win32gui_struct\n",
      "asn1crypto          hashlib             pyls_jsonrpc        win32help\n",
      "ast                 heapdict            pyodbc              win32inet\n",
      "astroid             heapq               pyparsing           win32inetcon\n",
      "astropy             hmac                pyreadline          win32job\n",
      "async_generator     html                pyrsistent          win32lz\n",
      "asynchat            html5lib            pytest              win32net\n",
      "asyncio             http                pythoncom           win32netcon\n",
      "asyncore            idlelib             pytz                win32pdh\n",
      "atexit              idna                pywin               win32pdhquery\n",
      "atomicwrites        imageio             pywin32_bootstrap   win32pdhutil\n"
     ]
    },
    {
     "name": "stdout",
     "output_type": "stream",
     "text": [
      "attr                imagesize           pywin32_testutil    win32pipe\n",
      "audioop             imaplib             pywintypes          win32print\n",
      "autopep8            imghdr              pywt                win32process\n",
      "autoreload          imp                 pyximport           win32profile\n",
      "babel               importlib           qdarkstyle          win32ras\n",
      "backcall            importlib_metadata  qtawesome           win32rcparser\n",
      "backports           iniconfig           qtconsole           win32security\n",
      "base64              inspect             qtpy                win32service\n",
      "bcrypt              intervaltree        queue               win32serviceutil\n",
      "bdb                 io                  quopri              win32timezone\n",
      "binascii            ipaddress           random              win32trace\n",
      "binhex              ipykernel           rasutil             win32traceutil\n",
      "binstar_client      ipykernel_launcher  re                  win32transaction\n",
      "bisect              ipython_genutils    readline            win32ts\n",
      "bitarray            ipywidgets          regcheck            win32ui\n",
      "bkcharts            isapi               regex               win32uiole\n",
      "bleach              isort               regutil             win32verstamp\n",
      "bokeh               isympy              reprlib             win32wnet\n",
      "boto                itertools           requests            win_inet_pton\n",
      "bottleneck          itsdangerous        rlcompleter         win_unicode_console\n",
      "brain_argparse      jdcal               rmagic              wincertstore\n",
      "brain_attrs         jedi                rope                winerror\n",
      "brain_boto3         jinja2              rtree               winioctlcon\n",
      "brain_builtin_inference joblib              ruamel_yaml         winnt\n",
      "brain_collections   json                run                 winperf\n",
      "brain_crypt         json5               runpy               winpty\n",
      "brain_curses        jsonschema          sched               winreg\n",
      "brain_dataclasses   jupyter             scipy               winsound\n",
      "brain_dateutil      jupyter_client      scripts             winxpgui\n",
      "brain_fstrings      jupyter_console     seaborn             winxptheme\n",
      "brain_functools     jupyter_core        secrets             wrapt\n",
      "brain_gi            jupyterlab          select              wsgiref\n",
      "brain_hashlib       jupyterlab_pygments selectors           xdrlib\n",
      "brain_http          jupyterlab_server   send2trash          xlrd\n",
      "brain_io            keyring             servicemanager      xlsxwriter\n",
      "brain_mechanize     keyword             setuptools          xlwings\n",
      "brain_multiprocessing kiwisolver          shelve              xlwt\n",
      "brain_namedtuple_enum lazy_object_proxy   shlex               xml\n",
      "brain_nose          lib2to3             shutil              xmlrpc\n",
      "brain_numpy_core_fromnumeric libarchive          signal              xmltodict\n",
      "brain_numpy_core_function_base libfuturize         simplegeneric       xxsubtype\n",
      "brain_numpy_core_multiarray libpasteurize       singledispatch      yaml\n",
      "brain_numpy_core_numeric lief                singledispatch_helpers yapf\n",
      "brain_numpy_core_numerictypes linecache           sip                 yapftests\n",
      "brain_numpy_core_umath llvmlite            sipconfig           zict\n",
      "brain_numpy_ndarray locale              sipdistutils        zipapp\n",
      "brain_numpy_random_mtrand locket              site                zipfile\n",
      "brain_numpy_utils   logging             six                 zipimport\n",
      "brain_pkg_resources lxml                skimage             zipp\n",
      "brain_pytest        lzma                sklearn             zlib\n",
      "brain_qt            mailbox             smtpd               zmq\n",
      "brain_random        mailcap             smtplib             zope\n",
      "brain_re            markupsafe          sndhdr              \n",
      "\n",
      "Enter any module name to get more help.  Or, type \"modules spam\" to search\n",
      "for modules whose name or summary contain the string \"spam\".\n",
      "\n"
     ]
    }
   ],
   "source": [
    "help(\"modules\")"
   ]
  },
  {
   "cell_type": "code",
   "execution_count": 215,
   "metadata": {},
   "outputs": [],
   "source": [
    "import sys"
   ]
  },
  {
   "cell_type": "code",
   "execution_count": 216,
   "metadata": {},
   "outputs": [
    {
     "name": "stdout",
     "output_type": "stream",
     "text": [
      "3.8.5 (default, Sep  3 2020, 21:29:08) [MSC v.1916 64 bit (AMD64)]\n"
     ]
    }
   ],
   "source": [
    "print(sys.version)"
   ]
  },
  {
   "cell_type": "code",
   "execution_count": 217,
   "metadata": {},
   "outputs": [],
   "source": [
    "from platform import python_version"
   ]
  },
  {
   "cell_type": "code",
   "execution_count": 218,
   "metadata": {},
   "outputs": [
    {
     "data": {
      "text/plain": [
       "'3.8.5'"
      ]
     },
     "execution_count": 218,
     "metadata": {},
     "output_type": "execute_result"
    }
   ],
   "source": [
    "python_version()"
   ]
  },
  {
   "cell_type": "code",
   "execution_count": 222,
   "metadata": {},
   "outputs": [],
   "source": [
    "import os"
   ]
  },
  {
   "cell_type": "code",
   "execution_count": 223,
   "metadata": {},
   "outputs": [
    {
     "data": {
      "text/plain": [
       "environ{'ALLUSERSPROFILE': 'C:\\\\ProgramData',\n",
       "        'APPDATA': 'C:\\\\Users\\\\ahaly\\\\AppData\\\\Roaming',\n",
       "        'COMMONPROGRAMFILES': 'C:\\\\Program Files\\\\Common Files',\n",
       "        'COMMONPROGRAMFILES(X86)': 'C:\\\\Program Files (x86)\\\\Common Files',\n",
       "        'COMMONPROGRAMW6432': 'C:\\\\Program Files\\\\Common Files',\n",
       "        'COMPUTERNAME': 'DESKTOP-M14KM4C',\n",
       "        'COMSPEC': 'C:\\\\WINDOWS\\\\system32\\\\cmd.exe',\n",
       "        'DRIVERDATA': 'C:\\\\Windows\\\\System32\\\\Drivers\\\\DriverData',\n",
       "        'FPS_BROWSER_APP_PROFILE_STRING': 'Internet Explorer',\n",
       "        'FPS_BROWSER_USER_PROFILE_STRING': 'Default',\n",
       "        'HOMEDRIVE': 'C:',\n",
       "        'HOMEPATH': '\\\\Users\\\\ahaly',\n",
       "        'LOCALAPPDATA': 'C:\\\\Users\\\\ahaly\\\\AppData\\\\Local',\n",
       "        'LOGONSERVER': '\\\\\\\\DESKTOP-M14KM4C',\n",
       "        'NUMBER_OF_PROCESSORS': '8',\n",
       "        'ONEDRIVE': 'C:\\\\Users\\\\ahaly\\\\OneDrive',\n",
       "        'ONEDRIVECONSUMER': 'C:\\\\Users\\\\ahaly\\\\OneDrive',\n",
       "        'OS': 'Windows_NT',\n",
       "        'PATH': 'C:\\\\Users\\\\ahaly\\\\anaconda3;C:\\\\Users\\\\ahaly\\\\anaconda3\\\\Library\\\\mingw-w64\\\\bin;C:\\\\Users\\\\ahaly\\\\anaconda3\\\\Library\\\\usr\\\\bin;C:\\\\Users\\\\ahaly\\\\anaconda3\\\\Library\\\\bin;C:\\\\Users\\\\ahaly\\\\anaconda3\\\\Scripts;C:\\\\WINDOWS\\\\system32;C:\\\\WINDOWS;C:\\\\WINDOWS\\\\System32\\\\Wbem;C:\\\\WINDOWS\\\\System32\\\\WindowsPowerShell\\\\v1.0\\\\;C:\\\\WINDOWS\\\\System32\\\\OpenSSH\\\\;C:\\\\Program Files\\\\Java\\\\jdk-13.0.2\\\\bin;C:\\\\Python35-32;C:\\\\Python35-32\\\\Lib\\\\site-packages\\\\;C:\\\\Python35-32\\\\Scripts\\\\;C:\\\\Program Files\\\\JetBrains\\\\PyCharm Community Edition 2020.3.3\\\\bin;;C:\\\\Users\\\\ahaly\\\\anaconda3\\\\lib\\\\site-packages\\\\llvmlite\\\\binding',\n",
       "        'PATHEXT': '.COM;.EXE;.BAT;.CMD;.VBS;.VBE;.JS;.JSE;.WSF;.WSH;.MSC',\n",
       "        'PROCESSOR_ARCHITECTURE': 'AMD64',\n",
       "        'PROCESSOR_IDENTIFIER': 'Intel64 Family 6 Model 126 Stepping 5, GenuineIntel',\n",
       "        'PROCESSOR_LEVEL': '6',\n",
       "        'PROCESSOR_REVISION': '7e05',\n",
       "        'PROGRAMDATA': 'C:\\\\ProgramData',\n",
       "        'PROGRAMFILES': 'C:\\\\Program Files',\n",
       "        'PROGRAMFILES(X86)': 'C:\\\\Program Files (x86)',\n",
       "        'PROGRAMW6432': 'C:\\\\Program Files',\n",
       "        'PSMODULEPATH': 'C:\\\\Program Files\\\\WindowsPowerShell\\\\Modules;C:\\\\WINDOWS\\\\system32\\\\WindowsPowerShell\\\\v1.0\\\\Modules',\n",
       "        'PUBLIC': 'C:\\\\Users\\\\Public',\n",
       "        'PYCHARM COMMUNITY EDITION': 'C:\\\\Program Files\\\\JetBrains\\\\PyCharm Community Edition 2020.3.3\\\\bin;',\n",
       "        'SESSIONNAME': 'Console',\n",
       "        'SYSTEMDRIVE': 'C:',\n",
       "        'SYSTEMROOT': 'C:\\\\WINDOWS',\n",
       "        'TEMP': 'C:\\\\Users\\\\ahaly\\\\AppData\\\\Local\\\\Temp',\n",
       "        'TMP': 'C:\\\\Users\\\\ahaly\\\\AppData\\\\Local\\\\Temp',\n",
       "        'USERDOMAIN': 'DESKTOP-M14KM4C',\n",
       "        'USERDOMAIN_ROAMINGPROFILE': 'DESKTOP-M14KM4C',\n",
       "        'USERNAME': 'ahaly',\n",
       "        'USERPROFILE': 'C:\\\\Users\\\\ahaly',\n",
       "        'WINDIR': 'C:\\\\WINDOWS',\n",
       "        'CONDA_PREFIX': 'C:\\\\Users\\\\ahaly\\\\anaconda3',\n",
       "        'JPY_INTERRUPT_EVENT': '2688',\n",
       "        'IPY_INTERRUPT_EVENT': '2688',\n",
       "        'JPY_PARENT_PID': '2740',\n",
       "        'TERM': 'xterm-color',\n",
       "        'CLICOLOR': '1',\n",
       "        'PAGER': 'cat',\n",
       "        'GIT_PAGER': 'cat',\n",
       "        'MPLBACKEND': 'module://ipykernel.pylab.backend_inline',\n",
       "        'QT_API': 'pyqt5',\n",
       "        'CONDA_ROOT': 'C:\\\\Users\\\\ahaly\\\\anaconda3',\n",
       "        'KMP_INIT_AT_FORK': 'FALSE',\n",
       "        'KMP_DUPLICATE_LIB_OK': 'True',\n",
       "        'LANG': 'en',\n",
       "        'PLAT': 'win-amd64'}"
      ]
     },
     "execution_count": 223,
     "metadata": {},
     "output_type": "execute_result"
    }
   ],
   "source": [
    "os.environ"
   ]
  },
  {
   "cell_type": "code",
   "execution_count": null,
   "metadata": {},
   "outputs": [],
   "source": []
  }
 ],
 "metadata": {
  "kernelspec": {
   "display_name": "Python 3",
   "language": "python",
   "name": "python3"
  },
  "language_info": {
   "codemirror_mode": {
    "name": "ipython",
    "version": 3
   },
   "file_extension": ".py",
   "mimetype": "text/x-python",
   "name": "python",
   "nbconvert_exporter": "python",
   "pygments_lexer": "ipython3",
   "version": "3.8.5"
  }
 },
 "nbformat": 4,
 "nbformat_minor": 4
}
