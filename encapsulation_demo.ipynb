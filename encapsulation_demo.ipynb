{
 "cells": [
  {
   "cell_type": "code",
   "execution_count": 2,
   "metadata": {},
   "outputs": [
    {
     "name": "stdout",
     "output_type": "stream",
     "text": [
      "Addition of result is: 160\n"
     ]
    }
   ],
   "source": [
    "class Operation:\n",
    "    __d=50  #declaring variable as private to the class\n",
    "    def __init__(self,a,b=None):\n",
    "        self.a=a\n",
    "        self.b=100\n",
    "              \n",
    "    def add(self):\n",
    "        print(\"Addition of result is:\",self.a+self.b+self.__d)\n",
    "obj1=Operation(10)\n",
    "obj1.add()\n"
   ]
  },
  {
   "cell_type": "code",
   "execution_count": 26,
   "metadata": {},
   "outputs": [
    {
     "name": "stdout",
     "output_type": "stream",
     "text": [
      "[10, 20, 20, 30, 40, 45, 49, 56]\n",
      "[10, 20, 49, 56, 45, 40, 30, 20]\n"
     ]
    },
    {
     "data": {
      "text/plain": [
       "[10, 20, 20, 30, 40, 45, 49, 56]"
      ]
     },
     "execution_count": 26,
     "metadata": {},
     "output_type": "execute_result"
    }
   ],
   "source": [
    "list1=[10,20,49,56,45,40,30,20]\n",
    "print(sorted(list1))\n",
    "print(list1)\n",
    "list1.sort()\n",
    "list1"
   ]
  },
  {
   "cell_type": "code",
   "execution_count": 77,
   "metadata": {},
   "outputs": [
    {
     "name": "stdout",
     "output_type": "stream",
     "text": [
      "300\n"
     ]
    }
   ],
   "source": [
    "class Multiply:  #playing with variables understanding self variable\n",
    "    e=30\n",
    "    def mul(self,f,e):\n",
    "        self.f=f\n",
    "        #self.e=e\n",
    "        c=self.e*self.f\n",
    "        return c\n",
    "    \n",
    "mul_obj=Multiply()\n",
    "#mul_obj.e=40\n",
    "result=mul_obj.mul(10,20)\n",
    "print(result)"
   ]
  },
  {
   "cell_type": "code",
   "execution_count": 64,
   "metadata": {},
   "outputs": [
    {
     "name": "stdout",
     "output_type": "stream",
     "text": [
      "in func 10\n",
      "1000 60\n"
     ]
    }
   ],
   "source": [
    "#concept of using global and varaible name same and how to change the value of global variable from inside the function\n",
    "a=50\n",
    "b=30\n",
    "def mul(f):\n",
    "    globals()[\"a\"]=60  #to access the global variable and change it's value\n",
    "    a=10  #local to function with same name as global variable\n",
    "    b=100\n",
    "    result=b*a\n",
    "    print(\"in func\",a)\n",
    "    return result\n",
    "    \n",
    "result=mul(5)\n",
    "print(result,a)\n",
    "\n",
    "    \n",
    "        \n",
    "        "
   ]
  },
  {
   "cell_type": "code",
   "execution_count": null,
   "metadata": {},
   "outputs": [],
   "source": []
  }
 ],
 "metadata": {
  "kernelspec": {
   "display_name": "Python 3",
   "language": "python",
   "name": "python3"
  },
  "language_info": {
   "codemirror_mode": {
    "name": "ipython",
    "version": 3
   },
   "file_extension": ".py",
   "mimetype": "text/x-python",
   "name": "python",
   "nbconvert_exporter": "python",
   "pygments_lexer": "ipython3",
   "version": "3.8.5"
  }
 },
 "nbformat": 4,
 "nbformat_minor": 4
}
