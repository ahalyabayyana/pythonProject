{
 "cells": [
  {
   "cell_type": "code",
   "execution_count": 34,
   "metadata": {},
   "outputs": [
    {
     "name": "stdout",
     "output_type": "stream",
     "text": [
      "Please enter the value:6\n",
      "Factorial of 6! is : 720\n",
      "Factorial of 5! is : 120\n",
      "Factorial of 4! is : 24\n",
      "Factorial of 3! is : 6\n",
      "Factorial of 2! is : 2\n",
      "Factorail of 1! is : 1\n"
     ]
    }
   ],
   "source": [
    "#finding the factorial of all numbers including the entered number till 1 \n",
    "value=int(input(\"Please enter the value:\"))\n",
    "result=value\n",
    "while(value!=1):\n",
    "    for i in range(1,value+1):\n",
    "        result=result*(value-i)\n",
    "        if((value-i)==1):\n",
    "            break\n",
    "    print(f\"Factorial of {value}! is : {result}\")\n",
    "    if(value==2):\n",
    "        print(\"Factorail of 1! is : 1\")\n",
    "        break\n",
    "    else:    \n",
    "        value=value-1\n",
    "        result=value\n",
    "\n",
    "    \n"
   ]
  },
  {
   "cell_type": "code",
   "execution_count": null,
   "metadata": {},
   "outputs": [],
   "source": []
  },
  {
   "cell_type": "code",
   "execution_count": 125,
   "metadata": {},
   "outputs": [],
   "source": [
    "# parent child inheritance with same method implemented differently\n",
    "class parent:\n",
    "    def __init__(self):\n",
    "        print(\"Welcome to parent constructor\")\n",
    "    def fact(self,a=None):\n",
    "        value=int(input(\"please enter the number to get factorial: \"))\n",
    "        result=1\n",
    "        for i in range(0,value):\n",
    "            result=result*(value-i)\n",
    "        print(f\"Result of factorial for {value} is : {result}\")\n",
    "        \n",
    "class child(parent):\n",
    "    def __init__(self):\n",
    "        print(\"welcome to child constructor\")\n",
    "        super().__init__()\n",
    "    def fact(self,a=None):\n",
    "        value=int(input(\"Please enter the value to get factorial of all numbers:\"))\n",
    "        result=value\n",
    "        while(value!=1):\n",
    "            for i in range(1,value+1):\n",
    "                result=result*(value-i)\n",
    "                if((value-i)==1):\n",
    "                    break\n",
    "            print(f\"Factorial of {value}! is : {result}\")\n",
    "            if(value==2):\n",
    "                print(\"Factorail of 1! is : 1\")\n",
    "                break\n",
    "            else:    \n",
    "                value=value-1\n",
    "                result=value\n",
    "        "
   ]
  },
  {
   "cell_type": "code",
   "execution_count": 126,
   "metadata": {},
   "outputs": [
    {
     "name": "stdout",
     "output_type": "stream",
     "text": [
      "Welcome to parent constructor\n",
      "please enter the number to get factorial: 4\n",
      "Result of factorial for 4 is : 24\n",
      "welcome to child constructor\n",
      "Welcome to parent constructor\n",
      "Please enter the value to get factorial of all numbers:5\n",
      "Factorial of 5! is : 120\n",
      "Factorial of 4! is : 24\n",
      "Factorial of 3! is : 6\n",
      "Factorial of 2! is : 2\n",
      "Factorail of 1! is : 1\n"
     ]
    }
   ],
   "source": [
    "obj_p=parent()\n",
    "obj_p.fact()\n",
    "obj_c=child()\n",
    "obj_c.fact()\n"
   ]
  },
  {
   "cell_type": "code",
   "execution_count": 127,
   "metadata": {},
   "outputs": [],
   "source": [
    "#abstract method implementing in two chld classes\n",
    "from abc import ABC,abstractmethod\n",
    "class abs_class:\n",
    "    @abstractmethod\n",
    "    def fact(self):\n",
    "        pass\n",
    "\n",
    "\n",
    "\n",
    "class parent(abs_class):\n",
    "    def __init__(self):\n",
    "        print(\"Welcome to parent constructor\")\n",
    "    def fact(self,a=None):\n",
    "        value=int(input(\"please enter the number to get factorial: \"))\n",
    "        result=1\n",
    "        for i in range(0,value):\n",
    "            result=result*(value-i)\n",
    "        print(f\"Result of factorial for {value} is : {result}\")\n",
    "        \n",
    "class child(parent):\n",
    "    def __init__(self):\n",
    "        print(\"welcome to child constructor\")\n",
    "        super().__init__()\n",
    "    def fact(self,a=None):\n",
    "        value=int(input(\"Please enter the value:\"))\n",
    "        result=value\n",
    "        while(value!=1):\n",
    "            for i in range(1,value+1):\n",
    "                result=result*(value-i)\n",
    "                if((value-i)==1):\n",
    "                    break\n",
    "            print(f\"Factorial of {value}! is : {result}\")\n",
    "            if(value==2):\n",
    "                print(\"Factorail of 1! is : 1\")\n",
    "                break\n",
    "            else:    \n",
    "                value=value-1\n",
    "                result=value  \n",
    "                \n",
    "                "
   ]
  },
  {
   "cell_type": "code",
   "execution_count": 111,
   "metadata": {},
   "outputs": [
    {
     "name": "stdout",
     "output_type": "stream",
     "text": [
      "Welcome to parent constructor\n",
      "please enter the number to get factorial: 6\n",
      "Result of factorial for 6 is : 720\n",
      "welcome to child constructor\n",
      "Welcome to parent constructor\n",
      "Please enter the value:6\n",
      "Factorial of 6! is : 720\n",
      "Factorial of 5! is : 120\n",
      "Factorial of 4! is : 24\n",
      "Factorial of 3! is : 6\n",
      "Factorial of 2! is : 2\n",
      "Factorail of 1! is : 1\n"
     ]
    }
   ],
   "source": [
    "obj_p=parent()\n",
    "obj_p.fact()\n",
    "obj_c=child()\n",
    "obj_c.fact()"
   ]
  },
  {
   "cell_type": "code",
   "execution_count": 128,
   "metadata": {},
   "outputs": [],
   "source": [
    "# finding factorial for a list of values--sending any number of args\n",
    "from abc import ABC,abstractmethod\n",
    "class abs_class:\n",
    "    @abstractmethod\n",
    "    def fact(self):\n",
    "        pass\n",
    "\n",
    "\n",
    "\n",
    "class parent(abs_class):\n",
    "    def __init__(self):\n",
    "        print(\"Welcome to parent constructor\")\n",
    "    def fact(self,a=None):\n",
    "        value=int(input(\"please enter the number to get factorial: \"))\n",
    "        result=1\n",
    "        for i in range(0,value):\n",
    "            result=result*(value-i)\n",
    "        print(f\"Result of factorial for {value} is : {result}\")\n",
    "        \n",
    "class child(parent):\n",
    "    def __init__(self):\n",
    "        print(\"welcome to child constructor\")\n",
    "        super().__init__()\n",
    "    def fact(self,a=None):\n",
    "        value=int(input(\"Please enter the value:\"))\n",
    "        result=value\n",
    "        while(value!=1):\n",
    "            for i in range(1,value+1):\n",
    "                result=result*(value-i)\n",
    "                if((value-i)==1):\n",
    "                    break\n",
    "            print(f\"Factorial of {value}! is : {result}\")\n",
    "            if(value==2):\n",
    "                print(\"Factorail of 1! is : 1\")\n",
    "                break\n",
    "            else:    \n",
    "                value=value-1\n",
    "                result=value\n",
    "class child2(abs_class):\n",
    "    def __init__(self):\n",
    "        print(\"Enter the values in the form of a list\")\n",
    "    def fact(self,*args):\n",
    "        for j in args:\n",
    "            result=1\n",
    "            value=j\n",
    "            for k in range(0,value):\n",
    "                result=result*(value-k)\n",
    "            print(f\"Result of factorial for {value} is : {result}\")\n",
    "            "
   ]
  },
  {
   "cell_type": "code",
   "execution_count": 129,
   "metadata": {},
   "outputs": [
    {
     "name": "stdout",
     "output_type": "stream",
     "text": [
      "Enter the values in the form of a list\n",
      "Result of factorial for 4 is : 24\n",
      "Result of factorial for 5 is : 120\n",
      "Result of factorial for 6 is : 720\n"
     ]
    }
   ],
   "source": [
    "# obj_p=parent()\n",
    "# obj_p.fact()\n",
    "# obj_c=child()\n",
    "# obj_c.fact()\n",
    "obj_c2=child2()\n",
    "#list1=[10,20,30]\n",
    "obj_c2.fact(4,5,6)"
   ]
  },
  {
   "cell_type": "code",
   "execution_count": 132,
   "metadata": {},
   "outputs": [],
   "source": [
    "# finding factorial for a list of values--unpacking\n",
    "from abc import ABC,abstractmethod\n",
    "class abs_class:\n",
    "    @abstractmethod\n",
    "    def fact(self):\n",
    "        pass\n",
    "\n",
    "\n",
    "\n",
    "class parent(abs_class):\n",
    "    def __init__(self):\n",
    "        print(\"Welcome to parent constructor\")\n",
    "    def fact(self,a=None):\n",
    "        value=int(input(\"please enter the number to get factorial: \"))\n",
    "        result=1\n",
    "        for i in range(0,value):\n",
    "            result=result*(value-i)\n",
    "        print(f\"Result of factorial for {value} is : {result}\")\n",
    "        \n",
    "class child(parent):\n",
    "    def __init__(self):\n",
    "        print(\"welcome to child constructor\")\n",
    "        super().__init__()\n",
    "    def fact(self,a=None):\n",
    "        value=int(input(\"Please enter the value:\"))\n",
    "        result=value\n",
    "        while(value!=1):\n",
    "            for i in range(1,value+1):\n",
    "                result=result*(value-i)\n",
    "                if((value-i)==1):\n",
    "                    break\n",
    "            print(f\"Factorial of {value}! is : {result}\")\n",
    "            if(value==2):\n",
    "                print(\"Factorail of 1! is : 1\")\n",
    "                break\n",
    "            else:    \n",
    "                value=value-1\n",
    "                result=value\n",
    "class child2(abs_class):\n",
    "    def fact(self,a,b,c):\n",
    "        args=[a,b,c]\n",
    "        for j in args:\n",
    "            result=1\n",
    "            value=j\n",
    "            for k in range(0,value):\n",
    "                result=result*(value-k)\n",
    "            print(f\"Result of factorial for {value} is : {result}\")"
   ]
  },
  {
   "cell_type": "code",
   "execution_count": 133,
   "metadata": {},
   "outputs": [
    {
     "name": "stdout",
     "output_type": "stream",
     "text": [
      "Result of factorial for 7 is : 5040\n",
      "Result of factorial for 8 is : 40320\n",
      "Result of factorial for 9 is : 362880\n"
     ]
    }
   ],
   "source": [
    "obj_c2=child2()\n",
    "list1=[7,8,9]\n",
    "obj_c2.fact(*list1)"
   ]
  },
  {
   "cell_type": "code",
   "execution_count": 32,
   "metadata": {},
   "outputs": [],
   "source": [
    "# writing the  result to a file\n",
    "from abc import ABC,abstractmethod\n",
    "class abs_class:\n",
    "    @abstractmethod\n",
    "    def fact(self):\n",
    "        pass\n",
    "\n",
    "\n",
    "\n",
    "class parent(abs_class):\n",
    "    def __init__(self):\n",
    "        print(\"Welcome to parent constructor\")\n",
    "    def fact(self,a=None):\n",
    "        value=int(input(\"please enter the number to get factorial: \"))\n",
    "        result=1\n",
    "        for i in range(0,value):\n",
    "            result=result*(value-i)\n",
    "        print(f\"Result of factorial for {value} is : {result}\")\n",
    "        \n",
    "class child(parent):\n",
    "    def __init__(self):\n",
    "        print(\"welcome to child constructor\")\n",
    "        super().__init__()\n",
    "    def fact(self,a=None):\n",
    "        value=int(input(\"Please enter the value:\"))\n",
    "        result=value\n",
    "        while(value!=1):\n",
    "            for i in range(1,value+1):\n",
    "                result=result*(value-i)\n",
    "                if((value-i)==1):\n",
    "                    break\n",
    "            print(f\"Factorial of {value}! is : {result}\")\n",
    "            if(value==2):\n",
    "                print(\"Factorail of 1! is : 1\")\n",
    "                break\n",
    "            else:    \n",
    "                value=value-1\n",
    "                result=value\n",
    "class child2(abs_class):\n",
    "    def fact(self,a,b,c):\n",
    "        args=[a,b,c]\n",
    "        for j in args:\n",
    "            result=1\n",
    "            value=j\n",
    "            for k in range(0,value):\n",
    "                result=result*(value-k)\n",
    "            print(f\"Result of factorial for {value} is : {result}\")\n",
    "class child3(abs_class):\n",
    "    def fact(self,a):\n",
    "        try:   \n",
    "            value=a\n",
    "            result=1\n",
    "            for i in range(0,value):\n",
    "                result=result*(value-i)\n",
    "            print(\"The output is written to a file\")    \n",
    "            fo=open(\"factorail_result.txt\",\"a\")\n",
    "            str1=result\n",
    "            str1=f\"Result of factorial for {value} is : {result}\\n\"\n",
    "            fo.write(str1)\n",
    "            fo.close()\n",
    "        except FileNotFoundError:\n",
    "            print(\"New file created successfully\")\n",
    "            fo=open(\"factorail_result.txt\",\"w\")\n",
    "        finally:    \n",
    "            fo.close()\n",
    "        \n",
    "        \n",
    "          "
   ]
  },
  {
   "cell_type": "code",
   "execution_count": 33,
   "metadata": {},
   "outputs": [
    {
     "name": "stdout",
     "output_type": "stream",
     "text": [
      "The output is written to a file\n"
     ]
    }
   ],
   "source": [
    "obj_child3=child3()\n",
    "obj_child3.fact(7)"
   ]
  },
  {
   "cell_type": "code",
   "execution_count": null,
   "metadata": {},
   "outputs": [],
   "source": []
  }
 ],
 "metadata": {
  "kernelspec": {
   "display_name": "Python 3",
   "language": "python",
   "name": "python3"
  },
  "language_info": {
   "codemirror_mode": {
    "name": "ipython",
    "version": 3
   },
   "file_extension": ".py",
   "mimetype": "text/x-python",
   "name": "python",
   "nbconvert_exporter": "python",
   "pygments_lexer": "ipython3",
   "version": "3.8.5"
  }
 },
 "nbformat": 4,
 "nbformat_minor": 4
}
