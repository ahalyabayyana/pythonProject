{
 "cells": [
  {
   "cell_type": "code",
   "execution_count": 49,
   "metadata": {},
   "outputs": [],
   "source": [
    "def isPrime(n):\n",
    "     if(n==1):\n",
    "        return True\n",
    "     elif(n>1):\n",
    "        for i in range(2,int(n/2)+1):\n",
    "            if(n%i==0):\n",
    "                return False\n",
    "                break \n",
    "            else:\n",
    "                return True"
   ]
  },
  {
   "cell_type": "code",
   "execution_count": 50,
   "metadata": {},
   "outputs": [],
   "source": [
    "def PrimeCheck(n,isPrime):\n",
    "    if isPrime(n):\n",
    "        print(\"Yes it is Prime Number\")\n",
    "    else:\n",
    "        print(\"It is not a Prime Number\")"
   ]
  },
  {
   "cell_type": "code",
   "execution_count": 53,
   "metadata": {},
   "outputs": [
    {
     "name": "stdout",
     "output_type": "stream",
     "text": [
      "It is not a Prime Number\n"
     ]
    }
   ],
   "source": [
    "PrimeCheck(10,isPrime)"
   ]
  },
  {
   "cell_type": "code",
   "execution_count": 56,
   "metadata": {},
   "outputs": [
    {
     "name": "stdout",
     "output_type": "stream",
     "text": [
      "1 2\n",
      "2 3\n",
      "3 4\n",
      "4 5\n",
      "5 6\n",
      "6 7\n",
      "7 8\n",
      "8 9\n",
      "9 10\n"
     ]
    }
   ],
   "source": [
    "for i in range(1,10):\n",
    "    print(i,end=\" \")\n",
    "    print(i+1)"
   ]
  },
  {
   "cell_type": "code",
   "execution_count": 58,
   "metadata": {},
   "outputs": [
    {
     "name": "stdout",
     "output_type": "stream",
     "text": [
      "1  \n",
      "1  1  \n",
      "1  2  1  \n",
      "1  3  3  1  \n",
      "1  4  6  4  1  \n",
      "1  5  10  10  5  1  \n"
     ]
    }
   ],
   "source": [
    "def binomialCoeff(n, k) : \n",
    "    res = 1\n",
    "    if (k > n - k) : \n",
    "        k = n - k \n",
    "    for i in range(0 , k) : \n",
    "        res = res * (n - i) \n",
    "        res = res // (i + 1) \n",
    "      \n",
    "    return res \n",
    "for line in range(0, 6) : \n",
    "          \n",
    "        # Every line has number of  \n",
    "        # integers equal to line \n",
    "        # number \n",
    "        for i in range(0, line + 1) : \n",
    "            print(binomialCoeff(line, i), \n",
    "                \" \", end = \"\") \n",
    "        print() "
   ]
  },
  {
   "cell_type": "code",
   "execution_count": 59,
   "metadata": {},
   "outputs": [],
   "source": [
    "def calculate(a,b):\n",
    "    return a+b,a-b"
   ]
  },
  {
   "cell_type": "code",
   "execution_count": 64,
   "metadata": {},
   "outputs": [
    {
     "name": "stdout",
     "output_type": "stream",
     "text": [
      "Addition result is: 15 \n",
      "Substraction result is: 5\n"
     ]
    }
   ],
   "source": [
    "add,sub=calculate(10,5)\n",
    "print(\"Addition result is:\",add,\"\\nSubstraction result is:\",sub)"
   ]
  },
  {
   "cell_type": "code",
   "execution_count": 65,
   "metadata": {},
   "outputs": [],
   "source": [
    "def showEmployee(emp_name,salary=10000):\n",
    "    print(\"Name of Employee is:\",emp_name,\"\\nSalary of Employee is:\",salary)"
   ]
  },
  {
   "cell_type": "code",
   "execution_count": 66,
   "metadata": {},
   "outputs": [
    {
     "name": "stdout",
     "output_type": "stream",
     "text": [
      "Name of Employee is: Rekha \n",
      "Salary of Employee is: 10000\n"
     ]
    }
   ],
   "source": [
    "showEmployee(\"Rekha\")"
   ]
  },
  {
   "cell_type": "code",
   "execution_count": 67,
   "metadata": {},
   "outputs": [
    {
     "name": "stdout",
     "output_type": "stream",
     "text": [
      "Name of Employee is: Rekha \n",
      "Salary of Employee is: 25000\n"
     ]
    }
   ],
   "source": [
    "showEmployee(\"Rekha\",25000)"
   ]
  },
  {
   "cell_type": "code",
   "execution_count": 68,
   "metadata": {},
   "outputs": [],
   "source": [
    "Details_employee=showEmployee"
   ]
  },
  {
   "cell_type": "code",
   "execution_count": 69,
   "metadata": {},
   "outputs": [
    {
     "name": "stdout",
     "output_type": "stream",
     "text": [
      "Name of Employee is: Ahalya \n",
      "Salary of Employee is: 10000\n"
     ]
    }
   ],
   "source": [
    "Details_employee(\"Ahalya\")"
   ]
  },
  {
   "cell_type": "code",
   "execution_count": 70,
   "metadata": {},
   "outputs": [],
   "source": [
    "def lastElement(l1):\n",
    "    if(l1==[]):\n",
    "        return None\n",
    "    else:\n",
    "        return l1[-1]"
   ]
  },
  {
   "cell_type": "code",
   "execution_count": 72,
   "metadata": {},
   "outputs": [
    {
     "name": "stdout",
     "output_type": "stream",
     "text": [
      "last element in the list is: 2\n"
     ]
    }
   ],
   "source": [
    "last=lastElement([1,4,5,6,8,1,2])\n",
    "print(\"last element in the list is:\",last)"
   ]
  },
  {
   "cell_type": "code",
   "execution_count": 73,
   "metadata": {},
   "outputs": [
    {
     "name": "stdout",
     "output_type": "stream",
     "text": [
      "last element in the list is: None\n"
     ]
    }
   ],
   "source": [
    "last=lastElement([])\n",
    "print(\"last element in the list is:\",last)"
   ]
  },
  {
   "cell_type": "code",
   "execution_count": 78,
   "metadata": {},
   "outputs": [],
   "source": [
    "def multipleLetterCount(str1):\n",
    "    dict1={}\n",
    "    for i,j in enumerate(str1):\n",
    "        dict1[j]=i\n",
    "    return dict1    \n",
    "        "
   ]
  },
  {
   "cell_type": "code",
   "execution_count": 80,
   "metadata": {},
   "outputs": [
    {
     "name": "stdout",
     "output_type": "stream",
     "text": [
      "{'H': 0, 'E': 1, 'L': 3, 'O': 4}\n"
     ]
    }
   ],
   "source": [
    "dict1=multipleLetterCount(\"HELLO\")\n",
    "print(dict1)"
   ]
  },
  {
   "cell_type": "markdown",
   "metadata": {},
   "source": [
    "#What Functions are and how they are useful in programming?\n",
    "\n",
    "Functions make the code reusable,Functions can take function as a argument and can return multiple values,can return a function aswell.\n",
    "Functions can be values for dictionary keys.\n",
    "Functions can be assigned to avariable and the type of varaiable will be a function type.\n",
    "\n",
    "#How we pass information to functions and how we can get information from functions.\n",
    "\n",
    "We can pass information to function as arguments there are two types of passing pass by value and pass by reference.There are 4 types of Arguments that we can pass to Functions.\n",
    "1.Positional Arguments\n",
    "2.Keyword Arguments\n",
    "3.Default Arguments\n",
    "4.Variable length Arguments,*args and **kwargs\n",
    "\n",
    "we can get information from functions using the return statements.Can retrun multiple retun values,return functions\n",
    "\n",
    "#Difference between positional Arguments and keyword arguments?\n",
    "\n",
    "There are some rules when sending the combination of positional as well as keyword arguments.\n",
    "positional arguments cannot follow keyword arguments.\n",
    "Positional Arguments needs to match the position in which they are declared inside the function.\n",
    "Keyword arguments have varaiable name while sending the data into functions.\n",
    "Positional arguments are arguments that can be called by their position in the function definition.\n",
    "\n",
    "Keyword arguments are arguments that can be called by their name."
   ]
  }
 ],
 "metadata": {
  "kernelspec": {
   "display_name": "Python 3",
   "language": "python",
   "name": "python3"
  },
  "language_info": {
   "codemirror_mode": {
    "name": "ipython",
    "version": 3
   },
   "file_extension": ".py",
   "mimetype": "text/x-python",
   "name": "python",
   "nbconvert_exporter": "python",
   "pygments_lexer": "ipython3",
   "version": "3.8.5"
  }
 },
 "nbformat": 4,
 "nbformat_minor": 4
}
